{
 "cells": [
  {
   "cell_type": "code",
   "execution_count": 1,
   "id": "1e6744b6",
   "metadata": {},
   "outputs": [],
   "source": [
    "# Import necessary libraries\n",
    "import pandas as pd\n",
    "import numpy as np\n",
    "import matplotlib.pyplot as plt\n",
    "import seaborn as sns\n",
    "from sklearn import metrics\n",
    "from sklearn.model_selection import train_test_split\n",
    "from sklearn.linear_model import LinearRegression\n",
    "from sklearn.ensemble import RandomForestRegressor\n",
    "from sklearn.model_selection import RandomizedSearchCV\n",
    "from sklearn.model_selection import GridSearchCV\n",
    "from sklearn.metrics import r2_score\n",
    "from sklearn.tree import DecisionTreeRegressor \n",
    "import xgboost as xgb\n",
    "from sklearn.metrics import roc_curve\n",
    "from sklearn.metrics import confusion_matrix, classification_report"
   ]
  },
  {
   "cell_type": "code",
   "execution_count": 2,
   "id": "e96e89a7",
   "metadata": {},
   "outputs": [
    {
     "data": {
      "text/html": [
       "<div>\n",
       "<style scoped>\n",
       "    .dataframe tbody tr th:only-of-type {\n",
       "        vertical-align: middle;\n",
       "    }\n",
       "\n",
       "    .dataframe tbody tr th {\n",
       "        vertical-align: top;\n",
       "    }\n",
       "\n",
       "    .dataframe thead th {\n",
       "        text-align: right;\n",
       "    }\n",
       "</style>\n",
       "<table border=\"1\" class=\"dataframe\">\n",
       "  <thead>\n",
       "    <tr style=\"text-align: right;\">\n",
       "      <th></th>\n",
       "      <th>Spotify ID</th>\n",
       "      <th>Artist IDs</th>\n",
       "      <th>Track Name</th>\n",
       "      <th>Album Name</th>\n",
       "      <th>Artist Name(s)</th>\n",
       "      <th>Release Date</th>\n",
       "      <th>Duration (ms)</th>\n",
       "      <th>Popularity</th>\n",
       "      <th>Added By</th>\n",
       "      <th>Added At</th>\n",
       "      <th>...</th>\n",
       "      <th>Key</th>\n",
       "      <th>Loudness</th>\n",
       "      <th>Mode</th>\n",
       "      <th>Speechiness</th>\n",
       "      <th>Acousticness</th>\n",
       "      <th>Instrumentalness</th>\n",
       "      <th>Liveness</th>\n",
       "      <th>Valence</th>\n",
       "      <th>Tempo</th>\n",
       "      <th>Time Signature</th>\n",
       "    </tr>\n",
       "  </thead>\n",
       "  <tbody>\n",
       "    <tr>\n",
       "      <th>0</th>\n",
       "      <td>7eQl3Yqv35ioqUfveKHitE</td>\n",
       "      <td>1wRPtKGflJrBx9BmLsSwlU,5GnnSrwNCGyfAU4zuIytiS</td>\n",
       "      <td>Tum Se Hi</td>\n",
       "      <td>Jab We Met</td>\n",
       "      <td>Pritam,Mohit Chauhan</td>\n",
       "      <td>21-09-2007</td>\n",
       "      <td>321225</td>\n",
       "      <td>77.0</td>\n",
       "      <td>spotify:user:7mq9oy7pfjv07t9yjj4gj2qy9</td>\n",
       "      <td>2019-09-18T16:03:30Z</td>\n",
       "      <td>...</td>\n",
       "      <td>6</td>\n",
       "      <td>-7.842</td>\n",
       "      <td>1</td>\n",
       "      <td>0.0273</td>\n",
       "      <td>0.32800</td>\n",
       "      <td>0.000000</td>\n",
       "      <td>0.1250</td>\n",
       "      <td>0.608</td>\n",
       "      <td>130.015</td>\n",
       "      <td>4</td>\n",
       "    </tr>\n",
       "    <tr>\n",
       "      <th>1</th>\n",
       "      <td>6aPMWbbdhDhiJHlknZb9Yx</td>\n",
       "      <td>4YRxDV8wJFPHPTeXepOstw,1SyKki7JI1AZNKwgNMkn25</td>\n",
       "      <td>Bekhayali (Arijit Singh Version) [From Kabir S...</td>\n",
       "      <td>Bekhayali (Arijit Singh Version) [From Kabir S...</td>\n",
       "      <td>Arijit Singh,Sachet-Parampara</td>\n",
       "      <td>03-06-2019</td>\n",
       "      <td>370444</td>\n",
       "      <td>56.0</td>\n",
       "      <td>spotify:user:7mq9oy7pfjv07t9yjj4gj2qy9</td>\n",
       "      <td>2019-09-18T16:03:47Z</td>\n",
       "      <td>...</td>\n",
       "      <td>9</td>\n",
       "      <td>-4.767</td>\n",
       "      <td>0</td>\n",
       "      <td>0.0491</td>\n",
       "      <td>0.49100</td>\n",
       "      <td>0.000000</td>\n",
       "      <td>0.2430</td>\n",
       "      <td>0.345</td>\n",
       "      <td>172.121</td>\n",
       "      <td>3</td>\n",
       "    </tr>\n",
       "    <tr>\n",
       "      <th>2</th>\n",
       "      <td>6zCQF5tu7HVwU9shhKqiuF</td>\n",
       "      <td>2kkQthS9OLpK4UqNWYqoVl,4YRxDV8wJFPHPTeXepOstw</td>\n",
       "      <td>Khamoshiyan</td>\n",
       "      <td>Khamoshiyan (Original Motion Picture Soundtrack)</td>\n",
       "      <td>Jeet Gannguli,Arijit Singh</td>\n",
       "      <td>29-12-2014</td>\n",
       "      <td>335709</td>\n",
       "      <td>69.0</td>\n",
       "      <td>spotify:user:7mq9oy7pfjv07t9yjj4gj2qy9</td>\n",
       "      <td>2019-09-18T16:03:57Z</td>\n",
       "      <td>...</td>\n",
       "      <td>2</td>\n",
       "      <td>-6.837</td>\n",
       "      <td>0</td>\n",
       "      <td>0.0272</td>\n",
       "      <td>0.63100</td>\n",
       "      <td>0.000000</td>\n",
       "      <td>0.1580</td>\n",
       "      <td>0.266</td>\n",
       "      <td>143.892</td>\n",
       "      <td>3</td>\n",
       "    </tr>\n",
       "    <tr>\n",
       "      <th>3</th>\n",
       "      <td>0qxTDueomxqHEUPwlD9y4S</td>\n",
       "      <td>7HCqGPJcQTyGJ2yqntbuyr,3nQ125TJobosBH446Dsvvv,...</td>\n",
       "      <td>Iktara (From Wake Up Sid)</td>\n",
       "      <td>Perfect 10: Love Story</td>\n",
       "      <td>Amit Trivedi,Kavita Seth,Amitabh Bhattacharya</td>\n",
       "      <td>20-01-2012</td>\n",
       "      <td>251773</td>\n",
       "      <td>30.0</td>\n",
       "      <td>spotify:user:7mq9oy7pfjv07t9yjj4gj2qy9</td>\n",
       "      <td>2020-08-26T13:36:59Z</td>\n",
       "      <td>...</td>\n",
       "      <td>7</td>\n",
       "      <td>-7.514</td>\n",
       "      <td>1</td>\n",
       "      <td>0.0259</td>\n",
       "      <td>0.42900</td>\n",
       "      <td>0.000652</td>\n",
       "      <td>0.4660</td>\n",
       "      <td>0.399</td>\n",
       "      <td>80.013</td>\n",
       "      <td>4</td>\n",
       "    </tr>\n",
       "    <tr>\n",
       "      <th>4</th>\n",
       "      <td>4iFPsNzNV7V9KJgcOX7TEO</td>\n",
       "      <td>2oSONSC9zQ4UonDKnLqksx,1wRPtKGflJrBx9BmLsSwlU</td>\n",
       "      <td>Tu Jaane Na</td>\n",
       "      <td>Ajab Prem Ki Ghazab Kahani (Original Motion Pi...</td>\n",
       "      <td>Atif Aslam,Pritam</td>\n",
       "      <td>06-11-2009</td>\n",
       "      <td>341933</td>\n",
       "      <td>71.0</td>\n",
       "      <td>spotify:user:7mq9oy7pfjv07t9yjj4gj2qy9</td>\n",
       "      <td>2020-12-22T21:15:41Z</td>\n",
       "      <td>...</td>\n",
       "      <td>7</td>\n",
       "      <td>-3.969</td>\n",
       "      <td>1</td>\n",
       "      <td>0.0345</td>\n",
       "      <td>0.36100</td>\n",
       "      <td>0.000001</td>\n",
       "      <td>0.1330</td>\n",
       "      <td>0.829</td>\n",
       "      <td>120.042</td>\n",
       "      <td>4</td>\n",
       "    </tr>\n",
       "    <tr>\n",
       "      <th>...</th>\n",
       "      <td>...</td>\n",
       "      <td>...</td>\n",
       "      <td>...</td>\n",
       "      <td>...</td>\n",
       "      <td>...</td>\n",
       "      <td>...</td>\n",
       "      <td>...</td>\n",
       "      <td>...</td>\n",
       "      <td>...</td>\n",
       "      <td>...</td>\n",
       "      <td>...</td>\n",
       "      <td>...</td>\n",
       "      <td>...</td>\n",
       "      <td>...</td>\n",
       "      <td>...</td>\n",
       "      <td>...</td>\n",
       "      <td>...</td>\n",
       "      <td>...</td>\n",
       "      <td>...</td>\n",
       "      <td>...</td>\n",
       "      <td>...</td>\n",
       "    </tr>\n",
       "    <tr>\n",
       "      <th>4217</th>\n",
       "      <td>13MzyV40LsbNrwiVebat88</td>\n",
       "      <td>6pU5oz09VUYtnFTd4P1Mxn</td>\n",
       "      <td>Balle Balle</td>\n",
       "      <td>God's Land</td>\n",
       "      <td>Ranjit Bawa</td>\n",
       "      <td>14-03-2023</td>\n",
       "      <td>175975</td>\n",
       "      <td>22.0</td>\n",
       "      <td>spotify:user:6k4vml2zfxualpid5pjz8woxz</td>\n",
       "      <td>2024-02-21T06:10:53Z</td>\n",
       "      <td>...</td>\n",
       "      <td>2</td>\n",
       "      <td>-7.172</td>\n",
       "      <td>1</td>\n",
       "      <td>0.3290</td>\n",
       "      <td>0.10500</td>\n",
       "      <td>0.000008</td>\n",
       "      <td>0.5720</td>\n",
       "      <td>0.751</td>\n",
       "      <td>81.961</td>\n",
       "      <td>4</td>\n",
       "    </tr>\n",
       "    <tr>\n",
       "      <th>4218</th>\n",
       "      <td>0weDybgIoozlzRXAisUYGT</td>\n",
       "      <td>6pU5oz09VUYtnFTd4P1Mxn</td>\n",
       "      <td>Look At Us</td>\n",
       "      <td>God's Land</td>\n",
       "      <td>Ranjit Bawa</td>\n",
       "      <td>14-03-2023</td>\n",
       "      <td>108292</td>\n",
       "      <td>34.0</td>\n",
       "      <td>spotify:user:6k4vml2zfxualpid5pjz8woxz</td>\n",
       "      <td>2024-02-21T06:10:57Z</td>\n",
       "      <td>...</td>\n",
       "      <td>6</td>\n",
       "      <td>-8.734</td>\n",
       "      <td>0</td>\n",
       "      <td>0.3590</td>\n",
       "      <td>0.00159</td>\n",
       "      <td>0.000000</td>\n",
       "      <td>0.0794</td>\n",
       "      <td>0.711</td>\n",
       "      <td>163.954</td>\n",
       "      <td>4</td>\n",
       "    </tr>\n",
       "    <tr>\n",
       "      <th>4219</th>\n",
       "      <td>7D8CvQ0wlT4mYKwFnEs1B1</td>\n",
       "      <td>182srEbrmnlFxcwkqZ0NR6</td>\n",
       "      <td>Saperra (Gang Jatt Di)</td>\n",
       "      <td>Ruff Around The Edges</td>\n",
       "      <td>Raf Saperra</td>\n",
       "      <td>09-03-2023</td>\n",
       "      <td>182666</td>\n",
       "      <td>44.0</td>\n",
       "      <td>spotify:user:6k4vml2zfxualpid5pjz8woxz</td>\n",
       "      <td>2024-02-21T06:11:09Z</td>\n",
       "      <td>...</td>\n",
       "      <td>10</td>\n",
       "      <td>-8.217</td>\n",
       "      <td>1</td>\n",
       "      <td>0.0863</td>\n",
       "      <td>0.08000</td>\n",
       "      <td>0.000000</td>\n",
       "      <td>0.4520</td>\n",
       "      <td>0.935</td>\n",
       "      <td>90.056</td>\n",
       "      <td>4</td>\n",
       "    </tr>\n",
       "    <tr>\n",
       "      <th>4220</th>\n",
       "      <td>42lIM5kcQtIHQK7vcDxcUJ</td>\n",
       "      <td>182srEbrmnlFxcwkqZ0NR6</td>\n",
       "      <td>Taveet</td>\n",
       "      <td>Ruff Around The Edges</td>\n",
       "      <td>Raf Saperra</td>\n",
       "      <td>09-03-2023</td>\n",
       "      <td>305059</td>\n",
       "      <td>35.0</td>\n",
       "      <td>spotify:user:6k4vml2zfxualpid5pjz8woxz</td>\n",
       "      <td>2024-02-21T06:11:12Z</td>\n",
       "      <td>...</td>\n",
       "      <td>4</td>\n",
       "      <td>-6.560</td>\n",
       "      <td>0</td>\n",
       "      <td>0.1940</td>\n",
       "      <td>0.01210</td>\n",
       "      <td>0.000011</td>\n",
       "      <td>0.3840</td>\n",
       "      <td>0.765</td>\n",
       "      <td>139.954</td>\n",
       "      <td>4</td>\n",
       "    </tr>\n",
       "    <tr>\n",
       "      <th>4221</th>\n",
       "      <td>7ups0PLQ1oiRnkneh3SQSD</td>\n",
       "      <td>6LEG9Ld1aLImEFEVHdWNSB,2SrSdSvpminqmStGELCSNd</td>\n",
       "      <td>Problems Over Peace</td>\n",
       "      <td>Problems Over Peace</td>\n",
       "      <td>AP Dhillon,Stormzy</td>\n",
       "      <td>05-04-2024</td>\n",
       "      <td>158895</td>\n",
       "      <td>68.0</td>\n",
       "      <td>spotify:user:6k4vml2zfxualpid5pjz8woxz</td>\n",
       "      <td>2024-04-05T06:22:07Z</td>\n",
       "      <td>...</td>\n",
       "      <td>8</td>\n",
       "      <td>-7.849</td>\n",
       "      <td>0</td>\n",
       "      <td>0.3410</td>\n",
       "      <td>0.50400</td>\n",
       "      <td>0.000000</td>\n",
       "      <td>0.1210</td>\n",
       "      <td>0.602</td>\n",
       "      <td>145.076</td>\n",
       "      <td>4</td>\n",
       "    </tr>\n",
       "  </tbody>\n",
       "</table>\n",
       "<p>4222 rows × 23 columns</p>\n",
       "</div>"
      ],
      "text/plain": [
       "                  Spotify ID  \\\n",
       "0     7eQl3Yqv35ioqUfveKHitE   \n",
       "1     6aPMWbbdhDhiJHlknZb9Yx   \n",
       "2     6zCQF5tu7HVwU9shhKqiuF   \n",
       "3     0qxTDueomxqHEUPwlD9y4S   \n",
       "4     4iFPsNzNV7V9KJgcOX7TEO   \n",
       "...                      ...   \n",
       "4217  13MzyV40LsbNrwiVebat88   \n",
       "4218  0weDybgIoozlzRXAisUYGT   \n",
       "4219  7D8CvQ0wlT4mYKwFnEs1B1   \n",
       "4220  42lIM5kcQtIHQK7vcDxcUJ   \n",
       "4221  7ups0PLQ1oiRnkneh3SQSD   \n",
       "\n",
       "                                             Artist IDs  \\\n",
       "0         1wRPtKGflJrBx9BmLsSwlU,5GnnSrwNCGyfAU4zuIytiS   \n",
       "1         4YRxDV8wJFPHPTeXepOstw,1SyKki7JI1AZNKwgNMkn25   \n",
       "2         2kkQthS9OLpK4UqNWYqoVl,4YRxDV8wJFPHPTeXepOstw   \n",
       "3     7HCqGPJcQTyGJ2yqntbuyr,3nQ125TJobosBH446Dsvvv,...   \n",
       "4         2oSONSC9zQ4UonDKnLqksx,1wRPtKGflJrBx9BmLsSwlU   \n",
       "...                                                 ...   \n",
       "4217                             6pU5oz09VUYtnFTd4P1Mxn   \n",
       "4218                             6pU5oz09VUYtnFTd4P1Mxn   \n",
       "4219                             182srEbrmnlFxcwkqZ0NR6   \n",
       "4220                             182srEbrmnlFxcwkqZ0NR6   \n",
       "4221      6LEG9Ld1aLImEFEVHdWNSB,2SrSdSvpminqmStGELCSNd   \n",
       "\n",
       "                                             Track Name  \\\n",
       "0                                             Tum Se Hi   \n",
       "1     Bekhayali (Arijit Singh Version) [From Kabir S...   \n",
       "2                                           Khamoshiyan   \n",
       "3                             Iktara (From Wake Up Sid)   \n",
       "4                                           Tu Jaane Na   \n",
       "...                                                 ...   \n",
       "4217                                        Balle Balle   \n",
       "4218                                         Look At Us   \n",
       "4219                             Saperra (Gang Jatt Di)   \n",
       "4220                                             Taveet   \n",
       "4221                                Problems Over Peace   \n",
       "\n",
       "                                             Album Name  \\\n",
       "0                                            Jab We Met   \n",
       "1     Bekhayali (Arijit Singh Version) [From Kabir S...   \n",
       "2      Khamoshiyan (Original Motion Picture Soundtrack)   \n",
       "3                                Perfect 10: Love Story   \n",
       "4     Ajab Prem Ki Ghazab Kahani (Original Motion Pi...   \n",
       "...                                                 ...   \n",
       "4217                                         God's Land   \n",
       "4218                                         God's Land   \n",
       "4219                              Ruff Around The Edges   \n",
       "4220                              Ruff Around The Edges   \n",
       "4221                                Problems Over Peace   \n",
       "\n",
       "                                     Artist Name(s) Release Date  \\\n",
       "0                              Pritam,Mohit Chauhan   21-09-2007   \n",
       "1                     Arijit Singh,Sachet-Parampara   03-06-2019   \n",
       "2                        Jeet Gannguli,Arijit Singh   29-12-2014   \n",
       "3     Amit Trivedi,Kavita Seth,Amitabh Bhattacharya   20-01-2012   \n",
       "4                                 Atif Aslam,Pritam   06-11-2009   \n",
       "...                                             ...          ...   \n",
       "4217                                    Ranjit Bawa   14-03-2023   \n",
       "4218                                    Ranjit Bawa   14-03-2023   \n",
       "4219                                    Raf Saperra   09-03-2023   \n",
       "4220                                    Raf Saperra   09-03-2023   \n",
       "4221                             AP Dhillon,Stormzy   05-04-2024   \n",
       "\n",
       "      Duration (ms)  Popularity                                Added By  \\\n",
       "0            321225        77.0  spotify:user:7mq9oy7pfjv07t9yjj4gj2qy9   \n",
       "1            370444        56.0  spotify:user:7mq9oy7pfjv07t9yjj4gj2qy9   \n",
       "2            335709        69.0  spotify:user:7mq9oy7pfjv07t9yjj4gj2qy9   \n",
       "3            251773        30.0  spotify:user:7mq9oy7pfjv07t9yjj4gj2qy9   \n",
       "4            341933        71.0  spotify:user:7mq9oy7pfjv07t9yjj4gj2qy9   \n",
       "...             ...         ...                                     ...   \n",
       "4217         175975        22.0  spotify:user:6k4vml2zfxualpid5pjz8woxz   \n",
       "4218         108292        34.0  spotify:user:6k4vml2zfxualpid5pjz8woxz   \n",
       "4219         182666        44.0  spotify:user:6k4vml2zfxualpid5pjz8woxz   \n",
       "4220         305059        35.0  spotify:user:6k4vml2zfxualpid5pjz8woxz   \n",
       "4221         158895        68.0  spotify:user:6k4vml2zfxualpid5pjz8woxz   \n",
       "\n",
       "                  Added At  ... Key  Loudness  Mode  Speechiness  \\\n",
       "0     2019-09-18T16:03:30Z  ...   6    -7.842     1       0.0273   \n",
       "1     2019-09-18T16:03:47Z  ...   9    -4.767     0       0.0491   \n",
       "2     2019-09-18T16:03:57Z  ...   2    -6.837     0       0.0272   \n",
       "3     2020-08-26T13:36:59Z  ...   7    -7.514     1       0.0259   \n",
       "4     2020-12-22T21:15:41Z  ...   7    -3.969     1       0.0345   \n",
       "...                    ...  ...  ..       ...   ...          ...   \n",
       "4217  2024-02-21T06:10:53Z  ...   2    -7.172     1       0.3290   \n",
       "4218  2024-02-21T06:10:57Z  ...   6    -8.734     0       0.3590   \n",
       "4219  2024-02-21T06:11:09Z  ...  10    -8.217     1       0.0863   \n",
       "4220  2024-02-21T06:11:12Z  ...   4    -6.560     0       0.1940   \n",
       "4221  2024-04-05T06:22:07Z  ...   8    -7.849     0       0.3410   \n",
       "\n",
       "      Acousticness  Instrumentalness  Liveness  Valence    Tempo  \\\n",
       "0          0.32800          0.000000    0.1250    0.608  130.015   \n",
       "1          0.49100          0.000000    0.2430    0.345  172.121   \n",
       "2          0.63100          0.000000    0.1580    0.266  143.892   \n",
       "3          0.42900          0.000652    0.4660    0.399   80.013   \n",
       "4          0.36100          0.000001    0.1330    0.829  120.042   \n",
       "...            ...               ...       ...      ...      ...   \n",
       "4217       0.10500          0.000008    0.5720    0.751   81.961   \n",
       "4218       0.00159          0.000000    0.0794    0.711  163.954   \n",
       "4219       0.08000          0.000000    0.4520    0.935   90.056   \n",
       "4220       0.01210          0.000011    0.3840    0.765  139.954   \n",
       "4221       0.50400          0.000000    0.1210    0.602  145.076   \n",
       "\n",
       "      Time Signature  \n",
       "0                  4  \n",
       "1                  3  \n",
       "2                  3  \n",
       "3                  4  \n",
       "4                  4  \n",
       "...              ...  \n",
       "4217               4  \n",
       "4218               4  \n",
       "4219               4  \n",
       "4220               4  \n",
       "4221               4  \n",
       "\n",
       "[4222 rows x 23 columns]"
      ]
     },
     "execution_count": 2,
     "metadata": {},
     "output_type": "execute_result"
    }
   ],
   "source": [
    "# Read the csv file\n",
    "df=pd.read_csv(\"/Users/noelm/Downloads/indian_songs_dataset_final_1.csv\",encoding='latin1')\n",
    "df"
   ]
  },
  {
   "cell_type": "code",
   "execution_count": 3,
   "id": "8586e927",
   "metadata": {},
   "outputs": [
    {
     "name": "stdout",
     "output_type": "stream",
     "text": [
      "               Spotify ID                                         Artist IDs  \\\n",
      "0  7eQl3Yqv35ioqUfveKHitE      1wRPtKGflJrBx9BmLsSwlU,5GnnSrwNCGyfAU4zuIytiS   \n",
      "1  6aPMWbbdhDhiJHlknZb9Yx      4YRxDV8wJFPHPTeXepOstw,1SyKki7JI1AZNKwgNMkn25   \n",
      "2  6zCQF5tu7HVwU9shhKqiuF      2kkQthS9OLpK4UqNWYqoVl,4YRxDV8wJFPHPTeXepOstw   \n",
      "3  0qxTDueomxqHEUPwlD9y4S  7HCqGPJcQTyGJ2yqntbuyr,3nQ125TJobosBH446Dsvvv,...   \n",
      "4  4iFPsNzNV7V9KJgcOX7TEO      2oSONSC9zQ4UonDKnLqksx,1wRPtKGflJrBx9BmLsSwlU   \n",
      "\n",
      "                                          Track Name  \\\n",
      "0                                          Tum Se Hi   \n",
      "1  Bekhayali (Arijit Singh Version) [From Kabir S...   \n",
      "2                                        Khamoshiyan   \n",
      "3                          Iktara (From Wake Up Sid)   \n",
      "4                                        Tu Jaane Na   \n",
      "\n",
      "                                          Album Name  \\\n",
      "0                                         Jab We Met   \n",
      "1  Bekhayali (Arijit Singh Version) [From Kabir S...   \n",
      "2   Khamoshiyan (Original Motion Picture Soundtrack)   \n",
      "3                             Perfect 10: Love Story   \n",
      "4  Ajab Prem Ki Ghazab Kahani (Original Motion Pi...   \n",
      "\n",
      "                                  Artist Name(s) Release Date  Duration (ms)  \\\n",
      "0                           Pritam,Mohit Chauhan   21-09-2007         321225   \n",
      "1                  Arijit Singh,Sachet-Parampara   03-06-2019         370444   \n",
      "2                     Jeet Gannguli,Arijit Singh   29-12-2014         335709   \n",
      "3  Amit Trivedi,Kavita Seth,Amitabh Bhattacharya   20-01-2012         251773   \n",
      "4                              Atif Aslam,Pritam   06-11-2009         341933   \n",
      "\n",
      "   Popularity                                Added By              Added At  \\\n",
      "0        77.0  spotify:user:7mq9oy7pfjv07t9yjj4gj2qy9  2019-09-18T16:03:30Z   \n",
      "1        56.0  spotify:user:7mq9oy7pfjv07t9yjj4gj2qy9  2019-09-18T16:03:47Z   \n",
      "2        69.0  spotify:user:7mq9oy7pfjv07t9yjj4gj2qy9  2019-09-18T16:03:57Z   \n",
      "3        30.0  spotify:user:7mq9oy7pfjv07t9yjj4gj2qy9  2020-08-26T13:36:59Z   \n",
      "4        71.0  spotify:user:7mq9oy7pfjv07t9yjj4gj2qy9  2020-12-22T21:15:41Z   \n",
      "\n",
      "   ... Key  Loudness  Mode  Speechiness  Acousticness  Instrumentalness  \\\n",
      "0  ...   6    -7.842     1       0.0273         0.328          0.000000   \n",
      "1  ...   9    -4.767     0       0.0491         0.491          0.000000   \n",
      "2  ...   2    -6.837     0       0.0272         0.631          0.000000   \n",
      "3  ...   7    -7.514     1       0.0259         0.429          0.000652   \n",
      "4  ...   7    -3.969     1       0.0345         0.361          0.000001   \n",
      "\n",
      "   Liveness  Valence    Tempo  Time Signature  \n",
      "0     0.125    0.608  130.015               4  \n",
      "1     0.243    0.345  172.121               3  \n",
      "2     0.158    0.266  143.892               3  \n",
      "3     0.466    0.399   80.013               4  \n",
      "4     0.133    0.829  120.042               4  \n",
      "\n",
      "[5 rows x 23 columns]\n"
     ]
    }
   ],
   "source": [
    "# Display first 5 records in dataframe\n",
    "print(df.head())"
   ]
  },
  {
   "cell_type": "code",
   "execution_count": 4,
   "id": "3c7a4dbb",
   "metadata": {},
   "outputs": [
    {
     "data": {
      "text/plain": [
       "(4222, 23)"
      ]
     },
     "execution_count": 4,
     "metadata": {},
     "output_type": "execute_result"
    }
   ],
   "source": [
    "# To get the total number of rows and columns in dataset\n",
    "df.shape"
   ]
  },
  {
   "cell_type": "code",
   "execution_count": 5,
   "id": "1351ee1c",
   "metadata": {},
   "outputs": [
    {
     "name": "stdout",
     "output_type": "stream",
     "text": [
      "<class 'pandas.core.frame.DataFrame'>\n",
      "RangeIndex: 4222 entries, 0 to 4221\n",
      "Data columns (total 23 columns):\n",
      " #   Column            Non-Null Count  Dtype  \n",
      "---  ------            --------------  -----  \n",
      " 0   Spotify ID        4222 non-null   object \n",
      " 1   Artist IDs        4222 non-null   object \n",
      " 2   Track Name        4070 non-null   object \n",
      " 3   Album Name        4076 non-null   object \n",
      " 4   Artist Name(s)    4070 non-null   object \n",
      " 5   Release Date      4222 non-null   object \n",
      " 6   Duration (ms)     4222 non-null   int64  \n",
      " 7   Popularity        4221 non-null   float64\n",
      " 8   Added By          4222 non-null   object \n",
      " 9   Added At          4222 non-null   object \n",
      " 10  Genres            3836 non-null   object \n",
      " 11  Danceability      4222 non-null   float64\n",
      " 12  Energy            4222 non-null   float64\n",
      " 13  Key               4222 non-null   int64  \n",
      " 14  Loudness          4222 non-null   float64\n",
      " 15  Mode              4222 non-null   int64  \n",
      " 16  Speechiness       4222 non-null   float64\n",
      " 17  Acousticness      4222 non-null   float64\n",
      " 18  Instrumentalness  4222 non-null   float64\n",
      " 19  Liveness          4222 non-null   float64\n",
      " 20  Valence           4222 non-null   float64\n",
      " 21  Tempo             4222 non-null   float64\n",
      " 22  Time Signature    4222 non-null   int64  \n",
      "dtypes: float64(10), int64(4), object(9)\n",
      "memory usage: 758.8+ KB\n"
     ]
    }
   ],
   "source": [
    "# Check the datatype and non-null count of each column\n",
    "df.info()"
   ]
  },
  {
   "cell_type": "code",
   "execution_count": 6,
   "id": "c7122a55",
   "metadata": {},
   "outputs": [
    {
     "data": {
      "text/plain": [
       "Spotify ID            0\n",
       "Artist IDs            0\n",
       "Track Name          152\n",
       "Album Name          146\n",
       "Artist Name(s)      152\n",
       "Release Date          0\n",
       "Duration (ms)         0\n",
       "Popularity            1\n",
       "Added By              0\n",
       "Added At              0\n",
       "Genres              386\n",
       "Danceability          0\n",
       "Energy                0\n",
       "Key                   0\n",
       "Loudness              0\n",
       "Mode                  0\n",
       "Speechiness           0\n",
       "Acousticness          0\n",
       "Instrumentalness      0\n",
       "Liveness              0\n",
       "Valence               0\n",
       "Tempo                 0\n",
       "Time Signature        0\n",
       "dtype: int64"
      ]
     },
     "execution_count": 6,
     "metadata": {},
     "output_type": "execute_result"
    }
   ],
   "source": [
    "# Check missing values\n",
    "df.isnull().sum()"
   ]
  },
  {
   "cell_type": "code",
   "execution_count": 7,
   "id": "4673a83b",
   "metadata": {},
   "outputs": [
    {
     "data": {
      "text/html": [
       "<div>\n",
       "<style scoped>\n",
       "    .dataframe tbody tr th:only-of-type {\n",
       "        vertical-align: middle;\n",
       "    }\n",
       "\n",
       "    .dataframe tbody tr th {\n",
       "        vertical-align: top;\n",
       "    }\n",
       "\n",
       "    .dataframe thead th {\n",
       "        text-align: right;\n",
       "    }\n",
       "</style>\n",
       "<table border=\"1\" class=\"dataframe\">\n",
       "  <thead>\n",
       "    <tr style=\"text-align: right;\">\n",
       "      <th></th>\n",
       "      <th>Spotify ID</th>\n",
       "      <th>Artist IDs</th>\n",
       "      <th>Track Name</th>\n",
       "      <th>Album Name</th>\n",
       "      <th>Artist Name(s)</th>\n",
       "      <th>Release Date</th>\n",
       "      <th>Duration (ms)</th>\n",
       "      <th>Popularity</th>\n",
       "      <th>Added By</th>\n",
       "      <th>Added At</th>\n",
       "      <th>...</th>\n",
       "      <th>Key</th>\n",
       "      <th>Loudness</th>\n",
       "      <th>Mode</th>\n",
       "      <th>Speechiness</th>\n",
       "      <th>Acousticness</th>\n",
       "      <th>Instrumentalness</th>\n",
       "      <th>Liveness</th>\n",
       "      <th>Valence</th>\n",
       "      <th>Tempo</th>\n",
       "      <th>Time Signature</th>\n",
       "    </tr>\n",
       "  </thead>\n",
       "  <tbody>\n",
       "    <tr>\n",
       "      <th>0</th>\n",
       "      <td>7eQl3Yqv35ioqUfveKHitE</td>\n",
       "      <td>1wRPtKGflJrBx9BmLsSwlU,5GnnSrwNCGyfAU4zuIytiS</td>\n",
       "      <td>Tum Se Hi</td>\n",
       "      <td>Jab We Met</td>\n",
       "      <td>Pritam,Mohit Chauhan</td>\n",
       "      <td>21-09-2007</td>\n",
       "      <td>321225</td>\n",
       "      <td>77.0</td>\n",
       "      <td>spotify:user:7mq9oy7pfjv07t9yjj4gj2qy9</td>\n",
       "      <td>2019-09-18T16:03:30Z</td>\n",
       "      <td>...</td>\n",
       "      <td>6</td>\n",
       "      <td>-7.842</td>\n",
       "      <td>1</td>\n",
       "      <td>0.0273</td>\n",
       "      <td>0.32800</td>\n",
       "      <td>0.000000</td>\n",
       "      <td>0.1250</td>\n",
       "      <td>0.608</td>\n",
       "      <td>130.015</td>\n",
       "      <td>4</td>\n",
       "    </tr>\n",
       "    <tr>\n",
       "      <th>1</th>\n",
       "      <td>6aPMWbbdhDhiJHlknZb9Yx</td>\n",
       "      <td>4YRxDV8wJFPHPTeXepOstw,1SyKki7JI1AZNKwgNMkn25</td>\n",
       "      <td>Bekhayali (Arijit Singh Version) [From Kabir S...</td>\n",
       "      <td>Bekhayali (Arijit Singh Version) [From Kabir S...</td>\n",
       "      <td>Arijit Singh,Sachet-Parampara</td>\n",
       "      <td>03-06-2019</td>\n",
       "      <td>370444</td>\n",
       "      <td>56.0</td>\n",
       "      <td>spotify:user:7mq9oy7pfjv07t9yjj4gj2qy9</td>\n",
       "      <td>2019-09-18T16:03:47Z</td>\n",
       "      <td>...</td>\n",
       "      <td>9</td>\n",
       "      <td>-4.767</td>\n",
       "      <td>0</td>\n",
       "      <td>0.0491</td>\n",
       "      <td>0.49100</td>\n",
       "      <td>0.000000</td>\n",
       "      <td>0.2430</td>\n",
       "      <td>0.345</td>\n",
       "      <td>172.121</td>\n",
       "      <td>3</td>\n",
       "    </tr>\n",
       "    <tr>\n",
       "      <th>2</th>\n",
       "      <td>6zCQF5tu7HVwU9shhKqiuF</td>\n",
       "      <td>2kkQthS9OLpK4UqNWYqoVl,4YRxDV8wJFPHPTeXepOstw</td>\n",
       "      <td>Khamoshiyan</td>\n",
       "      <td>Khamoshiyan (Original Motion Picture Soundtrack)</td>\n",
       "      <td>Jeet Gannguli,Arijit Singh</td>\n",
       "      <td>29-12-2014</td>\n",
       "      <td>335709</td>\n",
       "      <td>69.0</td>\n",
       "      <td>spotify:user:7mq9oy7pfjv07t9yjj4gj2qy9</td>\n",
       "      <td>2019-09-18T16:03:57Z</td>\n",
       "      <td>...</td>\n",
       "      <td>2</td>\n",
       "      <td>-6.837</td>\n",
       "      <td>0</td>\n",
       "      <td>0.0272</td>\n",
       "      <td>0.63100</td>\n",
       "      <td>0.000000</td>\n",
       "      <td>0.1580</td>\n",
       "      <td>0.266</td>\n",
       "      <td>143.892</td>\n",
       "      <td>3</td>\n",
       "    </tr>\n",
       "    <tr>\n",
       "      <th>3</th>\n",
       "      <td>0qxTDueomxqHEUPwlD9y4S</td>\n",
       "      <td>7HCqGPJcQTyGJ2yqntbuyr,3nQ125TJobosBH446Dsvvv,...</td>\n",
       "      <td>Iktara (From Wake Up Sid)</td>\n",
       "      <td>Perfect 10: Love Story</td>\n",
       "      <td>Amit Trivedi,Kavita Seth,Amitabh Bhattacharya</td>\n",
       "      <td>20-01-2012</td>\n",
       "      <td>251773</td>\n",
       "      <td>30.0</td>\n",
       "      <td>spotify:user:7mq9oy7pfjv07t9yjj4gj2qy9</td>\n",
       "      <td>2020-08-26T13:36:59Z</td>\n",
       "      <td>...</td>\n",
       "      <td>7</td>\n",
       "      <td>-7.514</td>\n",
       "      <td>1</td>\n",
       "      <td>0.0259</td>\n",
       "      <td>0.42900</td>\n",
       "      <td>0.000652</td>\n",
       "      <td>0.4660</td>\n",
       "      <td>0.399</td>\n",
       "      <td>80.013</td>\n",
       "      <td>4</td>\n",
       "    </tr>\n",
       "    <tr>\n",
       "      <th>4</th>\n",
       "      <td>4iFPsNzNV7V9KJgcOX7TEO</td>\n",
       "      <td>2oSONSC9zQ4UonDKnLqksx,1wRPtKGflJrBx9BmLsSwlU</td>\n",
       "      <td>Tu Jaane Na</td>\n",
       "      <td>Ajab Prem Ki Ghazab Kahani (Original Motion Pi...</td>\n",
       "      <td>Atif Aslam,Pritam</td>\n",
       "      <td>06-11-2009</td>\n",
       "      <td>341933</td>\n",
       "      <td>71.0</td>\n",
       "      <td>spotify:user:7mq9oy7pfjv07t9yjj4gj2qy9</td>\n",
       "      <td>2020-12-22T21:15:41Z</td>\n",
       "      <td>...</td>\n",
       "      <td>7</td>\n",
       "      <td>-3.969</td>\n",
       "      <td>1</td>\n",
       "      <td>0.0345</td>\n",
       "      <td>0.36100</td>\n",
       "      <td>0.000001</td>\n",
       "      <td>0.1330</td>\n",
       "      <td>0.829</td>\n",
       "      <td>120.042</td>\n",
       "      <td>4</td>\n",
       "    </tr>\n",
       "    <tr>\n",
       "      <th>...</th>\n",
       "      <td>...</td>\n",
       "      <td>...</td>\n",
       "      <td>...</td>\n",
       "      <td>...</td>\n",
       "      <td>...</td>\n",
       "      <td>...</td>\n",
       "      <td>...</td>\n",
       "      <td>...</td>\n",
       "      <td>...</td>\n",
       "      <td>...</td>\n",
       "      <td>...</td>\n",
       "      <td>...</td>\n",
       "      <td>...</td>\n",
       "      <td>...</td>\n",
       "      <td>...</td>\n",
       "      <td>...</td>\n",
       "      <td>...</td>\n",
       "      <td>...</td>\n",
       "      <td>...</td>\n",
       "      <td>...</td>\n",
       "      <td>...</td>\n",
       "    </tr>\n",
       "    <tr>\n",
       "      <th>4217</th>\n",
       "      <td>13MzyV40LsbNrwiVebat88</td>\n",
       "      <td>6pU5oz09VUYtnFTd4P1Mxn</td>\n",
       "      <td>Balle Balle</td>\n",
       "      <td>God's Land</td>\n",
       "      <td>Ranjit Bawa</td>\n",
       "      <td>14-03-2023</td>\n",
       "      <td>175975</td>\n",
       "      <td>22.0</td>\n",
       "      <td>spotify:user:6k4vml2zfxualpid5pjz8woxz</td>\n",
       "      <td>2024-02-21T06:10:53Z</td>\n",
       "      <td>...</td>\n",
       "      <td>2</td>\n",
       "      <td>-7.172</td>\n",
       "      <td>1</td>\n",
       "      <td>0.3290</td>\n",
       "      <td>0.10500</td>\n",
       "      <td>0.000008</td>\n",
       "      <td>0.5720</td>\n",
       "      <td>0.751</td>\n",
       "      <td>81.961</td>\n",
       "      <td>4</td>\n",
       "    </tr>\n",
       "    <tr>\n",
       "      <th>4218</th>\n",
       "      <td>0weDybgIoozlzRXAisUYGT</td>\n",
       "      <td>6pU5oz09VUYtnFTd4P1Mxn</td>\n",
       "      <td>Look At Us</td>\n",
       "      <td>God's Land</td>\n",
       "      <td>Ranjit Bawa</td>\n",
       "      <td>14-03-2023</td>\n",
       "      <td>108292</td>\n",
       "      <td>34.0</td>\n",
       "      <td>spotify:user:6k4vml2zfxualpid5pjz8woxz</td>\n",
       "      <td>2024-02-21T06:10:57Z</td>\n",
       "      <td>...</td>\n",
       "      <td>6</td>\n",
       "      <td>-8.734</td>\n",
       "      <td>0</td>\n",
       "      <td>0.3590</td>\n",
       "      <td>0.00159</td>\n",
       "      <td>0.000000</td>\n",
       "      <td>0.0794</td>\n",
       "      <td>0.711</td>\n",
       "      <td>163.954</td>\n",
       "      <td>4</td>\n",
       "    </tr>\n",
       "    <tr>\n",
       "      <th>4219</th>\n",
       "      <td>7D8CvQ0wlT4mYKwFnEs1B1</td>\n",
       "      <td>182srEbrmnlFxcwkqZ0NR6</td>\n",
       "      <td>Saperra (Gang Jatt Di)</td>\n",
       "      <td>Ruff Around The Edges</td>\n",
       "      <td>Raf Saperra</td>\n",
       "      <td>09-03-2023</td>\n",
       "      <td>182666</td>\n",
       "      <td>44.0</td>\n",
       "      <td>spotify:user:6k4vml2zfxualpid5pjz8woxz</td>\n",
       "      <td>2024-02-21T06:11:09Z</td>\n",
       "      <td>...</td>\n",
       "      <td>10</td>\n",
       "      <td>-8.217</td>\n",
       "      <td>1</td>\n",
       "      <td>0.0863</td>\n",
       "      <td>0.08000</td>\n",
       "      <td>0.000000</td>\n",
       "      <td>0.4520</td>\n",
       "      <td>0.935</td>\n",
       "      <td>90.056</td>\n",
       "      <td>4</td>\n",
       "    </tr>\n",
       "    <tr>\n",
       "      <th>4220</th>\n",
       "      <td>42lIM5kcQtIHQK7vcDxcUJ</td>\n",
       "      <td>182srEbrmnlFxcwkqZ0NR6</td>\n",
       "      <td>Taveet</td>\n",
       "      <td>Ruff Around The Edges</td>\n",
       "      <td>Raf Saperra</td>\n",
       "      <td>09-03-2023</td>\n",
       "      <td>305059</td>\n",
       "      <td>35.0</td>\n",
       "      <td>spotify:user:6k4vml2zfxualpid5pjz8woxz</td>\n",
       "      <td>2024-02-21T06:11:12Z</td>\n",
       "      <td>...</td>\n",
       "      <td>4</td>\n",
       "      <td>-6.560</td>\n",
       "      <td>0</td>\n",
       "      <td>0.1940</td>\n",
       "      <td>0.01210</td>\n",
       "      <td>0.000011</td>\n",
       "      <td>0.3840</td>\n",
       "      <td>0.765</td>\n",
       "      <td>139.954</td>\n",
       "      <td>4</td>\n",
       "    </tr>\n",
       "    <tr>\n",
       "      <th>4221</th>\n",
       "      <td>7ups0PLQ1oiRnkneh3SQSD</td>\n",
       "      <td>6LEG9Ld1aLImEFEVHdWNSB,2SrSdSvpminqmStGELCSNd</td>\n",
       "      <td>Problems Over Peace</td>\n",
       "      <td>Problems Over Peace</td>\n",
       "      <td>AP Dhillon,Stormzy</td>\n",
       "      <td>05-04-2024</td>\n",
       "      <td>158895</td>\n",
       "      <td>68.0</td>\n",
       "      <td>spotify:user:6k4vml2zfxualpid5pjz8woxz</td>\n",
       "      <td>2024-04-05T06:22:07Z</td>\n",
       "      <td>...</td>\n",
       "      <td>8</td>\n",
       "      <td>-7.849</td>\n",
       "      <td>0</td>\n",
       "      <td>0.3410</td>\n",
       "      <td>0.50400</td>\n",
       "      <td>0.000000</td>\n",
       "      <td>0.1210</td>\n",
       "      <td>0.602</td>\n",
       "      <td>145.076</td>\n",
       "      <td>4</td>\n",
       "    </tr>\n",
       "  </tbody>\n",
       "</table>\n",
       "<p>3836 rows × 23 columns</p>\n",
       "</div>"
      ],
      "text/plain": [
       "                  Spotify ID  \\\n",
       "0     7eQl3Yqv35ioqUfveKHitE   \n",
       "1     6aPMWbbdhDhiJHlknZb9Yx   \n",
       "2     6zCQF5tu7HVwU9shhKqiuF   \n",
       "3     0qxTDueomxqHEUPwlD9y4S   \n",
       "4     4iFPsNzNV7V9KJgcOX7TEO   \n",
       "...                      ...   \n",
       "4217  13MzyV40LsbNrwiVebat88   \n",
       "4218  0weDybgIoozlzRXAisUYGT   \n",
       "4219  7D8CvQ0wlT4mYKwFnEs1B1   \n",
       "4220  42lIM5kcQtIHQK7vcDxcUJ   \n",
       "4221  7ups0PLQ1oiRnkneh3SQSD   \n",
       "\n",
       "                                             Artist IDs  \\\n",
       "0         1wRPtKGflJrBx9BmLsSwlU,5GnnSrwNCGyfAU4zuIytiS   \n",
       "1         4YRxDV8wJFPHPTeXepOstw,1SyKki7JI1AZNKwgNMkn25   \n",
       "2         2kkQthS9OLpK4UqNWYqoVl,4YRxDV8wJFPHPTeXepOstw   \n",
       "3     7HCqGPJcQTyGJ2yqntbuyr,3nQ125TJobosBH446Dsvvv,...   \n",
       "4         2oSONSC9zQ4UonDKnLqksx,1wRPtKGflJrBx9BmLsSwlU   \n",
       "...                                                 ...   \n",
       "4217                             6pU5oz09VUYtnFTd4P1Mxn   \n",
       "4218                             6pU5oz09VUYtnFTd4P1Mxn   \n",
       "4219                             182srEbrmnlFxcwkqZ0NR6   \n",
       "4220                             182srEbrmnlFxcwkqZ0NR6   \n",
       "4221      6LEG9Ld1aLImEFEVHdWNSB,2SrSdSvpminqmStGELCSNd   \n",
       "\n",
       "                                             Track Name  \\\n",
       "0                                             Tum Se Hi   \n",
       "1     Bekhayali (Arijit Singh Version) [From Kabir S...   \n",
       "2                                           Khamoshiyan   \n",
       "3                             Iktara (From Wake Up Sid)   \n",
       "4                                           Tu Jaane Na   \n",
       "...                                                 ...   \n",
       "4217                                        Balle Balle   \n",
       "4218                                         Look At Us   \n",
       "4219                             Saperra (Gang Jatt Di)   \n",
       "4220                                             Taveet   \n",
       "4221                                Problems Over Peace   \n",
       "\n",
       "                                             Album Name  \\\n",
       "0                                            Jab We Met   \n",
       "1     Bekhayali (Arijit Singh Version) [From Kabir S...   \n",
       "2      Khamoshiyan (Original Motion Picture Soundtrack)   \n",
       "3                                Perfect 10: Love Story   \n",
       "4     Ajab Prem Ki Ghazab Kahani (Original Motion Pi...   \n",
       "...                                                 ...   \n",
       "4217                                         God's Land   \n",
       "4218                                         God's Land   \n",
       "4219                              Ruff Around The Edges   \n",
       "4220                              Ruff Around The Edges   \n",
       "4221                                Problems Over Peace   \n",
       "\n",
       "                                     Artist Name(s) Release Date  \\\n",
       "0                              Pritam,Mohit Chauhan   21-09-2007   \n",
       "1                     Arijit Singh,Sachet-Parampara   03-06-2019   \n",
       "2                        Jeet Gannguli,Arijit Singh   29-12-2014   \n",
       "3     Amit Trivedi,Kavita Seth,Amitabh Bhattacharya   20-01-2012   \n",
       "4                                 Atif Aslam,Pritam   06-11-2009   \n",
       "...                                             ...          ...   \n",
       "4217                                    Ranjit Bawa   14-03-2023   \n",
       "4218                                    Ranjit Bawa   14-03-2023   \n",
       "4219                                    Raf Saperra   09-03-2023   \n",
       "4220                                    Raf Saperra   09-03-2023   \n",
       "4221                             AP Dhillon,Stormzy   05-04-2024   \n",
       "\n",
       "      Duration (ms)  Popularity                                Added By  \\\n",
       "0            321225        77.0  spotify:user:7mq9oy7pfjv07t9yjj4gj2qy9   \n",
       "1            370444        56.0  spotify:user:7mq9oy7pfjv07t9yjj4gj2qy9   \n",
       "2            335709        69.0  spotify:user:7mq9oy7pfjv07t9yjj4gj2qy9   \n",
       "3            251773        30.0  spotify:user:7mq9oy7pfjv07t9yjj4gj2qy9   \n",
       "4            341933        71.0  spotify:user:7mq9oy7pfjv07t9yjj4gj2qy9   \n",
       "...             ...         ...                                     ...   \n",
       "4217         175975        22.0  spotify:user:6k4vml2zfxualpid5pjz8woxz   \n",
       "4218         108292        34.0  spotify:user:6k4vml2zfxualpid5pjz8woxz   \n",
       "4219         182666        44.0  spotify:user:6k4vml2zfxualpid5pjz8woxz   \n",
       "4220         305059        35.0  spotify:user:6k4vml2zfxualpid5pjz8woxz   \n",
       "4221         158895        68.0  spotify:user:6k4vml2zfxualpid5pjz8woxz   \n",
       "\n",
       "                  Added At  ... Key  Loudness  Mode  Speechiness  \\\n",
       "0     2019-09-18T16:03:30Z  ...   6    -7.842     1       0.0273   \n",
       "1     2019-09-18T16:03:47Z  ...   9    -4.767     0       0.0491   \n",
       "2     2019-09-18T16:03:57Z  ...   2    -6.837     0       0.0272   \n",
       "3     2020-08-26T13:36:59Z  ...   7    -7.514     1       0.0259   \n",
       "4     2020-12-22T21:15:41Z  ...   7    -3.969     1       0.0345   \n",
       "...                    ...  ...  ..       ...   ...          ...   \n",
       "4217  2024-02-21T06:10:53Z  ...   2    -7.172     1       0.3290   \n",
       "4218  2024-02-21T06:10:57Z  ...   6    -8.734     0       0.3590   \n",
       "4219  2024-02-21T06:11:09Z  ...  10    -8.217     1       0.0863   \n",
       "4220  2024-02-21T06:11:12Z  ...   4    -6.560     0       0.1940   \n",
       "4221  2024-04-05T06:22:07Z  ...   8    -7.849     0       0.3410   \n",
       "\n",
       "      Acousticness  Instrumentalness  Liveness  Valence    Tempo  \\\n",
       "0          0.32800          0.000000    0.1250    0.608  130.015   \n",
       "1          0.49100          0.000000    0.2430    0.345  172.121   \n",
       "2          0.63100          0.000000    0.1580    0.266  143.892   \n",
       "3          0.42900          0.000652    0.4660    0.399   80.013   \n",
       "4          0.36100          0.000001    0.1330    0.829  120.042   \n",
       "...            ...               ...       ...      ...      ...   \n",
       "4217       0.10500          0.000008    0.5720    0.751   81.961   \n",
       "4218       0.00159          0.000000    0.0794    0.711  163.954   \n",
       "4219       0.08000          0.000000    0.4520    0.935   90.056   \n",
       "4220       0.01210          0.000011    0.3840    0.765  139.954   \n",
       "4221       0.50400          0.000000    0.1210    0.602  145.076   \n",
       "\n",
       "      Time Signature  \n",
       "0                  4  \n",
       "1                  3  \n",
       "2                  3  \n",
       "3                  4  \n",
       "4                  4  \n",
       "...              ...  \n",
       "4217               4  \n",
       "4218               4  \n",
       "4219               4  \n",
       "4220               4  \n",
       "4221               4  \n",
       "\n",
       "[3836 rows x 23 columns]"
      ]
     },
     "execution_count": 7,
     "metadata": {},
     "output_type": "execute_result"
    }
   ],
   "source": [
    "# Drop all the rows where we have missing values\n",
    "data = df.dropna()\n",
    "data"
   ]
  },
  {
   "cell_type": "code",
   "execution_count": 8,
   "id": "b129c350",
   "metadata": {},
   "outputs": [
    {
     "data": {
      "text/plain": [
       "Spotify ID          0\n",
       "Artist IDs          0\n",
       "Track Name          0\n",
       "Album Name          0\n",
       "Artist Name(s)      0\n",
       "Release Date        0\n",
       "Duration (ms)       0\n",
       "Popularity          0\n",
       "Added By            0\n",
       "Added At            0\n",
       "Genres              0\n",
       "Danceability        0\n",
       "Energy              0\n",
       "Key                 0\n",
       "Loudness            0\n",
       "Mode                0\n",
       "Speechiness         0\n",
       "Acousticness        0\n",
       "Instrumentalness    0\n",
       "Liveness            0\n",
       "Valence             0\n",
       "Tempo               0\n",
       "Time Signature      0\n",
       "dtype: int64"
      ]
     },
     "execution_count": 8,
     "metadata": {},
     "output_type": "execute_result"
    }
   ],
   "source": [
    "# Check for missing values again\n",
    "data.isnull().sum()"
   ]
  },
  {
   "cell_type": "code",
   "execution_count": 9,
   "id": "59f5ca0f",
   "metadata": {},
   "outputs": [
    {
     "data": {
      "text/plain": [
       "(3836, 23)"
      ]
     },
     "execution_count": 9,
     "metadata": {},
     "output_type": "execute_result"
    }
   ],
   "source": [
    "# No. of rows became less in new dataframe\n",
    "data.shape"
   ]
  },
  {
   "cell_type": "code",
   "execution_count": 10,
   "id": "e8524ba5",
   "metadata": {},
   "outputs": [
    {
     "name": "stdout",
     "output_type": "stream",
     "text": [
      "No of unique songs =  2494\n"
     ]
    }
   ],
   "source": [
    "uni=data['Track Name'].nunique()\n",
    "print(\"No of unique songs = \",uni)"
   ]
  },
  {
   "cell_type": "code",
   "execution_count": 11,
   "id": "87394a97",
   "metadata": {},
   "outputs": [
    {
     "name": "stdout",
     "output_type": "stream",
     "text": [
      "                  Spotify ID  \\\n",
      "177   2kRzgmBlmhvFvCEgMHltWz   \n",
      "302   3SHopOL3KEJ8PFl3vJdfmF   \n",
      "338   7ouBSPZKQpm7zQz2leJXta   \n",
      "339   3uL1IBFhg52VcQqOwAG01E   \n",
      "340   3t3wsY5IdLVzB9WidegJSU   \n",
      "...                      ...   \n",
      "4022  595br74XSTX5V9YixYZdXC   \n",
      "4030  23YGhMVq1wJYROCp2kr8yP   \n",
      "4077  0xIuPDzJSnJywALez8dwKR   \n",
      "4083  5XpRKTgWi6skmmQu5sSz8d   \n",
      "4122  5qEFLzru66ilBHP6am3PwA   \n",
      "\n",
      "                                             Artist IDs  \\\n",
      "177                              0oOet2f43PA68X5RxKobEy   \n",
      "302       5bv6NvAYNuvd2Vq13nHdG3,4IKVDbCSBTxBeAsMKjAuTs   \n",
      "338                              4YRxDV8wJFPHPTeXepOstw   \n",
      "339       4YRxDV8wJFPHPTeXepOstw,5UJ2sHO2ELrgW6aXeRLTQQ   \n",
      "340   2oSONSC9zQ4UonDKnLqksx,0oOet2f43PA68X5RxKobEy,...   \n",
      "...                                                 ...   \n",
      "4022      5IfJHO9jIE1GVuC517P3nr,07iEy1AecUPVzfC2J2gCHR   \n",
      "4030      2FKWNmZWDBZR4dE5KX4plR,0OS0NZnK7TGIAWx8MkWNFN   \n",
      "4077                             6LEG9Ld1aLImEFEVHdWNSB   \n",
      "4083  1zrFFDzoE9XXyjEqqgDpMm,25bvyjHJAszeSV3q0TmEhY,...   \n",
      "4122  1sSYaQBOI71QZDZ9OWW3hp,0DyXyd0D6fMUsuD6yONANx,...   \n",
      "\n",
      "                       Track Name  \\\n",
      "177                 Sunn Raha Hai   \n",
      "302                         Naina   \n",
      "338   Tum Hi Ho (From Aashiqui 2)   \n",
      "339                    Mast Magan   \n",
      "340               Jeene Laga Hoon   \n",
      "...                           ...   \n",
      "4022                         Yaad   \n",
      "4030                 Feel My Love   \n",
      "4077                     With You   \n",
      "4083                    Real Talk   \n",
      "4122                         Case   \n",
      "\n",
      "                                             Album Name  \\\n",
      "177                                          Aashiqui 2   \n",
      "302                                          Khoobsurat   \n",
      "338                  Ultimate Love Songs - Arijit Singh   \n",
      "339                                            2 States   \n",
      "340   Ramaiya Vastavaiya (Original Motion Picture So...   \n",
      "...                                                 ...   \n",
      "4022                                         In My Flow   \n",
      "4030                                              Ghost   \n",
      "4077                                           With You   \n",
      "4083                                          Real Talk   \n",
      "4122                                               Case   \n",
      "\n",
      "                              Artist Name(s) Release Date  Duration (ms)  \\\n",
      "177                           Shreya Ghoshal   06-04-2013         314700   \n",
      "302              Sona Mohapatra,Armaan Malik   12-08-2014         225568   \n",
      "338                             Arijit Singh   19-05-2020         261974   \n",
      "339                    Arijit Singh,Chinmayi   14-03-2014         280161   \n",
      "340   Atif Aslam,Shreya Ghoshal,Sachin-Jigar   19-07-2013         236933   \n",
      "...                                      ...          ...            ...   \n",
      "4022                          Jaz Dhami,Ikka   06-10-2023         189661   \n",
      "4030                  Diljit Dosanjh,Intense   29-09-2023         212250   \n",
      "4077                              AP Dhillon   11-08-2023         154554   \n",
      "4083                   Dr Zeus,Jazzy B,Legha   31-08-2023         193103   \n",
      "4122   Chani Nattan,Miss Pooja,Inderpal Moga   30-06-2023         139513   \n",
      "\n",
      "      Popularity                                   Added By  \\\n",
      "177         66.0     spotify:user:7mq9oy7pfjv07t9yjj4gj2qy9   \n",
      "302         68.0     spotify:user:7mq9oy7pfjv07t9yjj4gj2qy9   \n",
      "338         69.0  spotify:user:31syfxlfwffexgufo5jdreproiwa   \n",
      "339         74.0  spotify:user:31syfxlfwffexgufo5jdreproiwa   \n",
      "340         72.0  spotify:user:31syfxlfwffexgufo5jdreproiwa   \n",
      "...          ...                                        ...   \n",
      "4022        30.0     spotify:user:6k4vml2zfxualpid5pjz8woxz   \n",
      "4030        58.0     spotify:user:6k4vml2zfxualpid5pjz8woxz   \n",
      "4077        75.0     spotify:user:6k4vml2zfxualpid5pjz8woxz   \n",
      "4083        20.0     spotify:user:6k4vml2zfxualpid5pjz8woxz   \n",
      "4122        45.0     spotify:user:6k4vml2zfxualpid5pjz8woxz   \n",
      "\n",
      "                  Added At  ... Key  Loudness  Mode  Speechiness  \\\n",
      "177   2021-06-06T21:26:45Z  ...   9    -5.336     0       0.0289   \n",
      "302   2023-06-10T19:09:54Z  ...   3    -7.490     1       0.0410   \n",
      "338   2023-02-08T13:20:41Z  ...   5    -6.250     0       0.0250   \n",
      "339   2023-03-04T01:49:45Z  ...   7    -7.014     1       0.0372   \n",
      "340   2024-01-21T14:09:03Z  ...   7    -7.901     0       0.0424   \n",
      "...                    ...  ...  ..       ...   ...          ...   \n",
      "4022  2024-01-17T21:48:54Z  ...   0    -4.718     0       0.1080   \n",
      "4030  2024-01-18T23:54:49Z  ...   9    -7.371     0       0.0470   \n",
      "4077  2024-01-23T21:38:47Z  ...   2    -4.773     1       0.0298   \n",
      "4083  2024-01-23T21:41:58Z  ...   9    -4.645     0       0.2150   \n",
      "4122  2024-01-29T19:53:42Z  ...   5    -4.950     0       0.3080   \n",
      "\n",
      "      Acousticness  Instrumentalness  Liveness  Valence    Tempo  \\\n",
      "177         0.7030          0.000203     0.136    0.482   82.066   \n",
      "302         0.6380          0.000000     0.123    0.366  159.996   \n",
      "338         0.7880          0.000000     0.122    0.309   94.054   \n",
      "339         0.6060          0.000333     0.185    0.883   82.995   \n",
      "340         0.1660          0.000189     0.138    0.554   90.315   \n",
      "...            ...               ...       ...      ...      ...   \n",
      "4022        0.2040          0.000000     0.172    0.317   99.928   \n",
      "4030        0.0443          0.001260     0.135    0.627  113.960   \n",
      "4077        0.1610          0.001100     0.201    0.925  116.978   \n",
      "4083        0.2700          0.000067     0.266    0.390  177.129   \n",
      "4122        0.4090          0.000000     0.242    0.847  179.886   \n",
      "\n",
      "      Time Signature  \n",
      "177                4  \n",
      "302                4  \n",
      "338                4  \n",
      "339                4  \n",
      "340                4  \n",
      "...              ...  \n",
      "4022               4  \n",
      "4030               4  \n",
      "4077               4  \n",
      "4083               4  \n",
      "4122               4  \n",
      "\n",
      "[1342 rows x 23 columns]\n"
     ]
    }
   ],
   "source": [
    "# Remove all duplicate songs keeping only the first occurance of that song\n",
    "duplicate_songs = data[data.duplicated(subset=['Track Name'], keep='first')]\n",
    "print(duplicate_songs)"
   ]
  },
  {
   "cell_type": "code",
   "execution_count": 12,
   "id": "2cfebe02",
   "metadata": {},
   "outputs": [
    {
     "data": {
      "text/plain": [
       "(1342, 23)"
      ]
     },
     "execution_count": 12,
     "metadata": {},
     "output_type": "execute_result"
    }
   ],
   "source": [
    "# Size of duplicate songs\n",
    "duplicate_songs.shape"
   ]
  },
  {
   "cell_type": "code",
   "execution_count": 13,
   "id": "0af56101",
   "metadata": {},
   "outputs": [
    {
     "data": {
      "text/plain": [
       "(2494, 23)"
      ]
     },
     "execution_count": 13,
     "metadata": {},
     "output_type": "execute_result"
    }
   ],
   "source": [
    "# New dataframe with all unique songs 2484 - 1317 = 1167\n",
    "df1 = data.drop_duplicates(subset=['Track Name'], keep='first')\n",
    "df1.shape"
   ]
  },
  {
   "cell_type": "code",
   "execution_count": 14,
   "id": "011e3ae1",
   "metadata": {},
   "outputs": [
    {
     "data": {
      "text/plain": [
       "(2494, 13)"
      ]
     },
     "execution_count": 14,
     "metadata": {},
     "output_type": "execute_result"
    }
   ],
   "source": [
    "# Drop the columns which are not required for the ML model\n",
    "cols = ['Spotify ID', 'Artist IDs', 'Added By','Added At','Track Name', 'Album Name', 'Artist Name(s)', 'Release Date','Genres',\n",
    "       'Duration (ms)']\n",
    "df1 = df1.drop(columns=cols)\n",
    "df1.shape"
   ]
  },
  {
   "cell_type": "code",
   "execution_count": 15,
   "id": "da4b17d6",
   "metadata": {},
   "outputs": [
    {
     "data": {
      "text/plain": [
       "Index(['Popularity', 'Danceability', 'Energy', 'Key', 'Loudness', 'Mode',\n",
       "       'Speechiness', 'Acousticness', 'Instrumentalness', 'Liveness',\n",
       "       'Valence', 'Tempo', 'Time Signature'],\n",
       "      dtype='object')"
      ]
     },
     "execution_count": 15,
     "metadata": {},
     "output_type": "execute_result"
    }
   ],
   "source": [
    "df1.columns"
   ]
  },
  {
   "cell_type": "code",
   "execution_count": 16,
   "id": "733e903a",
   "metadata": {},
   "outputs": [],
   "source": [
    "from collections import Counter\n",
    "def detect_outliers(df,features):\n",
    "    outlier_indices = []\n",
    "    \n",
    "    for c in features:\n",
    "        # 1st quartile\n",
    "        Q1 = np.percentile(df[c],25)\n",
    "        # 3rd quartile\n",
    "        Q3 = np.percentile(df[c],75)\n",
    "        # IQR\n",
    "        IQR = Q3 - Q1\n",
    "        # Outlier step\n",
    "        outlier_step = IQR * 1.5\n",
    "        # detect outlier and their indeces\n",
    "        outlier_list_col = df[(df[c] < Q1 - outlier_step) | (df[c] > Q3 + outlier_step)].index #filtre\n",
    "        # store indeces\n",
    "        outlier_indices.extend(outlier_list_col) #The extend() extends the list by adding all items of a list (passed as an argument) to the end.\n",
    "    \n",
    "    outlier_indices = Counter(outlier_indices)\n",
    "    multiple_outliers = list(i for i, v in outlier_indices.items() if v > 2) \n",
    "    \n",
    "    return multiple_outliers"
   ]
  },
  {
   "cell_type": "code",
   "execution_count": 17,
   "id": "a8ab21fb",
   "metadata": {},
   "outputs": [
    {
     "data": {
      "text/html": [
       "<div>\n",
       "<style scoped>\n",
       "    .dataframe tbody tr th:only-of-type {\n",
       "        vertical-align: middle;\n",
       "    }\n",
       "\n",
       "    .dataframe tbody tr th {\n",
       "        vertical-align: top;\n",
       "    }\n",
       "\n",
       "    .dataframe thead th {\n",
       "        text-align: right;\n",
       "    }\n",
       "</style>\n",
       "<table border=\"1\" class=\"dataframe\">\n",
       "  <thead>\n",
       "    <tr style=\"text-align: right;\">\n",
       "      <th></th>\n",
       "      <th>Popularity</th>\n",
       "      <th>Danceability</th>\n",
       "      <th>Energy</th>\n",
       "      <th>Key</th>\n",
       "      <th>Loudness</th>\n",
       "      <th>Mode</th>\n",
       "      <th>Speechiness</th>\n",
       "      <th>Acousticness</th>\n",
       "      <th>Instrumentalness</th>\n",
       "      <th>Liveness</th>\n",
       "      <th>Valence</th>\n",
       "      <th>Tempo</th>\n",
       "      <th>Time Signature</th>\n",
       "    </tr>\n",
       "  </thead>\n",
       "  <tbody>\n",
       "    <tr>\n",
       "      <th>2725</th>\n",
       "      <td>0.0</td>\n",
       "      <td>0.648</td>\n",
       "      <td>0.88800</td>\n",
       "      <td>1</td>\n",
       "      <td>-5.503</td>\n",
       "      <td>1</td>\n",
       "      <td>0.3220</td>\n",
       "      <td>0.3510</td>\n",
       "      <td>0.000000</td>\n",
       "      <td>0.193</td>\n",
       "      <td>0.6570</td>\n",
       "      <td>103.460</td>\n",
       "      <td>3</td>\n",
       "    </tr>\n",
       "    <tr>\n",
       "      <th>42</th>\n",
       "      <td>40.0</td>\n",
       "      <td>0.215</td>\n",
       "      <td>0.14700</td>\n",
       "      <td>10</td>\n",
       "      <td>-14.797</td>\n",
       "      <td>1</td>\n",
       "      <td>0.0379</td>\n",
       "      <td>0.8640</td>\n",
       "      <td>0.000000</td>\n",
       "      <td>0.094</td>\n",
       "      <td>0.1450</td>\n",
       "      <td>85.120</td>\n",
       "      <td>4</td>\n",
       "    </tr>\n",
       "    <tr>\n",
       "      <th>1599</th>\n",
       "      <td>39.0</td>\n",
       "      <td>0.207</td>\n",
       "      <td>0.29700</td>\n",
       "      <td>5</td>\n",
       "      <td>-8.845</td>\n",
       "      <td>0</td>\n",
       "      <td>0.0336</td>\n",
       "      <td>0.7880</td>\n",
       "      <td>0.655000</td>\n",
       "      <td>0.708</td>\n",
       "      <td>0.0514</td>\n",
       "      <td>166.025</td>\n",
       "      <td>4</td>\n",
       "    </tr>\n",
       "    <tr>\n",
       "      <th>275</th>\n",
       "      <td>52.0</td>\n",
       "      <td>0.620</td>\n",
       "      <td>0.11100</td>\n",
       "      <td>6</td>\n",
       "      <td>-14.142</td>\n",
       "      <td>1</td>\n",
       "      <td>0.0355</td>\n",
       "      <td>0.8960</td>\n",
       "      <td>0.001350</td>\n",
       "      <td>0.113</td>\n",
       "      <td>0.4770</td>\n",
       "      <td>127.960</td>\n",
       "      <td>5</td>\n",
       "    </tr>\n",
       "    <tr>\n",
       "      <th>968</th>\n",
       "      <td>50.0</td>\n",
       "      <td>0.472</td>\n",
       "      <td>0.12200</td>\n",
       "      <td>4</td>\n",
       "      <td>-15.837</td>\n",
       "      <td>0</td>\n",
       "      <td>0.0357</td>\n",
       "      <td>0.5780</td>\n",
       "      <td>0.001570</td>\n",
       "      <td>0.120</td>\n",
       "      <td>0.0923</td>\n",
       "      <td>146.430</td>\n",
       "      <td>5</td>\n",
       "    </tr>\n",
       "    <tr>\n",
       "      <th>1073</th>\n",
       "      <td>8.0</td>\n",
       "      <td>0.415</td>\n",
       "      <td>0.00865</td>\n",
       "      <td>9</td>\n",
       "      <td>-19.003</td>\n",
       "      <td>1</td>\n",
       "      <td>0.0605</td>\n",
       "      <td>0.9760</td>\n",
       "      <td>0.000035</td>\n",
       "      <td>0.153</td>\n",
       "      <td>0.1110</td>\n",
       "      <td>139.482</td>\n",
       "      <td>5</td>\n",
       "    </tr>\n",
       "    <tr>\n",
       "      <th>1418</th>\n",
       "      <td>64.0</td>\n",
       "      <td>0.378</td>\n",
       "      <td>0.14600</td>\n",
       "      <td>6</td>\n",
       "      <td>-15.412</td>\n",
       "      <td>1</td>\n",
       "      <td>0.0403</td>\n",
       "      <td>0.8970</td>\n",
       "      <td>0.000016</td>\n",
       "      <td>0.122</td>\n",
       "      <td>0.1780</td>\n",
       "      <td>138.649</td>\n",
       "      <td>3</td>\n",
       "    </tr>\n",
       "    <tr>\n",
       "      <th>307</th>\n",
       "      <td>73.0</td>\n",
       "      <td>0.645</td>\n",
       "      <td>0.32400</td>\n",
       "      <td>1</td>\n",
       "      <td>-13.621</td>\n",
       "      <td>0</td>\n",
       "      <td>0.0545</td>\n",
       "      <td>0.7540</td>\n",
       "      <td>0.000727</td>\n",
       "      <td>0.103</td>\n",
       "      <td>0.4930</td>\n",
       "      <td>162.037</td>\n",
       "      <td>3</td>\n",
       "    </tr>\n",
       "    <tr>\n",
       "      <th>1183</th>\n",
       "      <td>70.0</td>\n",
       "      <td>0.556</td>\n",
       "      <td>0.20200</td>\n",
       "      <td>4</td>\n",
       "      <td>-16.397</td>\n",
       "      <td>1</td>\n",
       "      <td>0.0324</td>\n",
       "      <td>0.9150</td>\n",
       "      <td>0.038100</td>\n",
       "      <td>0.112</td>\n",
       "      <td>0.2000</td>\n",
       "      <td>145.017</td>\n",
       "      <td>3</td>\n",
       "    </tr>\n",
       "    <tr>\n",
       "      <th>1188</th>\n",
       "      <td>49.0</td>\n",
       "      <td>0.550</td>\n",
       "      <td>0.28900</td>\n",
       "      <td>4</td>\n",
       "      <td>-14.411</td>\n",
       "      <td>1</td>\n",
       "      <td>0.0358</td>\n",
       "      <td>0.8670</td>\n",
       "      <td>0.000015</td>\n",
       "      <td>0.893</td>\n",
       "      <td>0.5110</td>\n",
       "      <td>107.084</td>\n",
       "      <td>1</td>\n",
       "    </tr>\n",
       "    <tr>\n",
       "      <th>3080</th>\n",
       "      <td>42.0</td>\n",
       "      <td>0.755</td>\n",
       "      <td>0.73800</td>\n",
       "      <td>7</td>\n",
       "      <td>-7.947</td>\n",
       "      <td>1</td>\n",
       "      <td>0.2090</td>\n",
       "      <td>0.6600</td>\n",
       "      <td>0.011300</td>\n",
       "      <td>0.395</td>\n",
       "      <td>0.9020</td>\n",
       "      <td>150.933</td>\n",
       "      <td>4</td>\n",
       "    </tr>\n",
       "    <tr>\n",
       "      <th>3339</th>\n",
       "      <td>33.0</td>\n",
       "      <td>0.636</td>\n",
       "      <td>0.90300</td>\n",
       "      <td>10</td>\n",
       "      <td>-4.791</td>\n",
       "      <td>0</td>\n",
       "      <td>0.2330</td>\n",
       "      <td>0.0504</td>\n",
       "      <td>0.000016</td>\n",
       "      <td>0.831</td>\n",
       "      <td>0.6490</td>\n",
       "      <td>106.459</td>\n",
       "      <td>3</td>\n",
       "    </tr>\n",
       "    <tr>\n",
       "      <th>3538</th>\n",
       "      <td>42.0</td>\n",
       "      <td>0.509</td>\n",
       "      <td>0.94900</td>\n",
       "      <td>11</td>\n",
       "      <td>-3.850</td>\n",
       "      <td>1</td>\n",
       "      <td>0.3450</td>\n",
       "      <td>0.4270</td>\n",
       "      <td>0.000032</td>\n",
       "      <td>0.209</td>\n",
       "      <td>0.9100</td>\n",
       "      <td>194.966</td>\n",
       "      <td>3</td>\n",
       "    </tr>\n",
       "    <tr>\n",
       "      <th>3549</th>\n",
       "      <td>50.0</td>\n",
       "      <td>0.489</td>\n",
       "      <td>0.95200</td>\n",
       "      <td>5</td>\n",
       "      <td>-3.441</td>\n",
       "      <td>1</td>\n",
       "      <td>0.3320</td>\n",
       "      <td>0.6560</td>\n",
       "      <td>0.002170</td>\n",
       "      <td>0.749</td>\n",
       "      <td>0.6760</td>\n",
       "      <td>144.657</td>\n",
       "      <td>4</td>\n",
       "    </tr>\n",
       "    <tr>\n",
       "      <th>3686</th>\n",
       "      <td>25.0</td>\n",
       "      <td>0.554</td>\n",
       "      <td>0.60000</td>\n",
       "      <td>7</td>\n",
       "      <td>-10.621</td>\n",
       "      <td>0</td>\n",
       "      <td>0.3460</td>\n",
       "      <td>0.4980</td>\n",
       "      <td>0.836000</td>\n",
       "      <td>0.450</td>\n",
       "      <td>0.8510</td>\n",
       "      <td>137.315</td>\n",
       "      <td>4</td>\n",
       "    </tr>\n",
       "    <tr>\n",
       "      <th>3799</th>\n",
       "      <td>52.0</td>\n",
       "      <td>0.513</td>\n",
       "      <td>0.87100</td>\n",
       "      <td>11</td>\n",
       "      <td>-3.050</td>\n",
       "      <td>0</td>\n",
       "      <td>0.2940</td>\n",
       "      <td>0.3590</td>\n",
       "      <td>0.000000</td>\n",
       "      <td>0.514</td>\n",
       "      <td>0.8340</td>\n",
       "      <td>125.216</td>\n",
       "      <td>5</td>\n",
       "    </tr>\n",
       "  </tbody>\n",
       "</table>\n",
       "</div>"
      ],
      "text/plain": [
       "      Popularity  Danceability   Energy  Key  Loudness  Mode  Speechiness  \\\n",
       "2725         0.0         0.648  0.88800    1    -5.503     1       0.3220   \n",
       "42          40.0         0.215  0.14700   10   -14.797     1       0.0379   \n",
       "1599        39.0         0.207  0.29700    5    -8.845     0       0.0336   \n",
       "275         52.0         0.620  0.11100    6   -14.142     1       0.0355   \n",
       "968         50.0         0.472  0.12200    4   -15.837     0       0.0357   \n",
       "1073         8.0         0.415  0.00865    9   -19.003     1       0.0605   \n",
       "1418        64.0         0.378  0.14600    6   -15.412     1       0.0403   \n",
       "307         73.0         0.645  0.32400    1   -13.621     0       0.0545   \n",
       "1183        70.0         0.556  0.20200    4   -16.397     1       0.0324   \n",
       "1188        49.0         0.550  0.28900    4   -14.411     1       0.0358   \n",
       "3080        42.0         0.755  0.73800    7    -7.947     1       0.2090   \n",
       "3339        33.0         0.636  0.90300   10    -4.791     0       0.2330   \n",
       "3538        42.0         0.509  0.94900   11    -3.850     1       0.3450   \n",
       "3549        50.0         0.489  0.95200    5    -3.441     1       0.3320   \n",
       "3686        25.0         0.554  0.60000    7   -10.621     0       0.3460   \n",
       "3799        52.0         0.513  0.87100   11    -3.050     0       0.2940   \n",
       "\n",
       "      Acousticness  Instrumentalness  Liveness  Valence    Tempo  \\\n",
       "2725        0.3510          0.000000     0.193   0.6570  103.460   \n",
       "42          0.8640          0.000000     0.094   0.1450   85.120   \n",
       "1599        0.7880          0.655000     0.708   0.0514  166.025   \n",
       "275         0.8960          0.001350     0.113   0.4770  127.960   \n",
       "968         0.5780          0.001570     0.120   0.0923  146.430   \n",
       "1073        0.9760          0.000035     0.153   0.1110  139.482   \n",
       "1418        0.8970          0.000016     0.122   0.1780  138.649   \n",
       "307         0.7540          0.000727     0.103   0.4930  162.037   \n",
       "1183        0.9150          0.038100     0.112   0.2000  145.017   \n",
       "1188        0.8670          0.000015     0.893   0.5110  107.084   \n",
       "3080        0.6600          0.011300     0.395   0.9020  150.933   \n",
       "3339        0.0504          0.000016     0.831   0.6490  106.459   \n",
       "3538        0.4270          0.000032     0.209   0.9100  194.966   \n",
       "3549        0.6560          0.002170     0.749   0.6760  144.657   \n",
       "3686        0.4980          0.836000     0.450   0.8510  137.315   \n",
       "3799        0.3590          0.000000     0.514   0.8340  125.216   \n",
       "\n",
       "      Time Signature  \n",
       "2725               3  \n",
       "42                 4  \n",
       "1599               4  \n",
       "275                5  \n",
       "968                5  \n",
       "1073               5  \n",
       "1418               3  \n",
       "307                3  \n",
       "1183               3  \n",
       "1188               1  \n",
       "3080               4  \n",
       "3339               3  \n",
       "3538               3  \n",
       "3549               4  \n",
       "3686               4  \n",
       "3799               5  "
      ]
     },
     "execution_count": 17,
     "metadata": {},
     "output_type": "execute_result"
    }
   ],
   "source": [
    "df1.loc[detect_outliers(df1,['Popularity', 'Danceability', 'Energy',\n",
    "       'Key', 'Loudness', 'Mode', 'Speechiness', 'Acousticness',\n",
    "       'Instrumentalness', 'Liveness', 'Valence', 'Tempo', 'Time Signature'])]"
   ]
  },
  {
   "cell_type": "code",
   "execution_count": 18,
   "id": "75e2df5d",
   "metadata": {},
   "outputs": [],
   "source": [
    "# drop outliers\n",
    "df1 = df1.drop(detect_outliers(df1,['Popularity', 'Danceability', 'Energy',\n",
    "       'Key', 'Loudness', 'Mode', 'Speechiness', 'Acousticness',\n",
    "       'Instrumentalness', 'Liveness', 'Valence', 'Tempo', 'Time Signature']),axis = 0).reset_index(drop = True)"
   ]
  },
  {
   "cell_type": "code",
   "execution_count": 19,
   "id": "df8ccf16",
   "metadata": {},
   "outputs": [
    {
     "data": {
      "text/plain": [
       "(2478, 13)"
      ]
     },
     "execution_count": 19,
     "metadata": {},
     "output_type": "execute_result"
    }
   ],
   "source": [
    "df1.shape"
   ]
  },
  {
   "cell_type": "code",
   "execution_count": 20,
   "id": "1a2bceae",
   "metadata": {},
   "outputs": [
    {
     "name": "stdout",
     "output_type": "stream",
     "text": [
      "(2478, 12) (2478,)\n"
     ]
    }
   ],
   "source": [
    "# Seperate into independant and dependant variables\n",
    "# In Y we keep Popularity as the target variable for predicting and X contains all the other columns as independant variable\n",
    "X = df1.iloc[:, np.r_[1:13]]\n",
    "Y = df1.iloc[:, 0]\n",
    "print(X.shape, Y.shape)"
   ]
  },
  {
   "cell_type": "code",
   "execution_count": 21,
   "id": "b81dc228",
   "metadata": {},
   "outputs": [
    {
     "data": {
      "text/html": [
       "<div>\n",
       "<style scoped>\n",
       "    .dataframe tbody tr th:only-of-type {\n",
       "        vertical-align: middle;\n",
       "    }\n",
       "\n",
       "    .dataframe tbody tr th {\n",
       "        vertical-align: top;\n",
       "    }\n",
       "\n",
       "    .dataframe thead th {\n",
       "        text-align: right;\n",
       "    }\n",
       "</style>\n",
       "<table border=\"1\" class=\"dataframe\">\n",
       "  <thead>\n",
       "    <tr style=\"text-align: right;\">\n",
       "      <th></th>\n",
       "      <th>Danceability</th>\n",
       "      <th>Energy</th>\n",
       "      <th>Key</th>\n",
       "      <th>Loudness</th>\n",
       "      <th>Mode</th>\n",
       "      <th>Speechiness</th>\n",
       "      <th>Acousticness</th>\n",
       "      <th>Instrumentalness</th>\n",
       "      <th>Liveness</th>\n",
       "      <th>Valence</th>\n",
       "      <th>Tempo</th>\n",
       "      <th>Time Signature</th>\n",
       "    </tr>\n",
       "  </thead>\n",
       "  <tbody>\n",
       "    <tr>\n",
       "      <th>0</th>\n",
       "      <td>0.609</td>\n",
       "      <td>0.538</td>\n",
       "      <td>6</td>\n",
       "      <td>-7.842</td>\n",
       "      <td>1</td>\n",
       "      <td>0.0273</td>\n",
       "      <td>0.32800</td>\n",
       "      <td>0.000000</td>\n",
       "      <td>0.1250</td>\n",
       "      <td>0.608</td>\n",
       "      <td>130.015</td>\n",
       "      <td>4</td>\n",
       "    </tr>\n",
       "    <tr>\n",
       "      <th>1</th>\n",
       "      <td>0.265</td>\n",
       "      <td>0.580</td>\n",
       "      <td>9</td>\n",
       "      <td>-4.767</td>\n",
       "      <td>0</td>\n",
       "      <td>0.0491</td>\n",
       "      <td>0.49100</td>\n",
       "      <td>0.000000</td>\n",
       "      <td>0.2430</td>\n",
       "      <td>0.345</td>\n",
       "      <td>172.121</td>\n",
       "      <td>3</td>\n",
       "    </tr>\n",
       "    <tr>\n",
       "      <th>2</th>\n",
       "      <td>0.527</td>\n",
       "      <td>0.521</td>\n",
       "      <td>2</td>\n",
       "      <td>-6.837</td>\n",
       "      <td>0</td>\n",
       "      <td>0.0272</td>\n",
       "      <td>0.63100</td>\n",
       "      <td>0.000000</td>\n",
       "      <td>0.1580</td>\n",
       "      <td>0.266</td>\n",
       "      <td>143.892</td>\n",
       "      <td>3</td>\n",
       "    </tr>\n",
       "    <tr>\n",
       "      <th>3</th>\n",
       "      <td>0.622</td>\n",
       "      <td>0.516</td>\n",
       "      <td>7</td>\n",
       "      <td>-7.514</td>\n",
       "      <td>1</td>\n",
       "      <td>0.0259</td>\n",
       "      <td>0.42900</td>\n",
       "      <td>0.000652</td>\n",
       "      <td>0.4660</td>\n",
       "      <td>0.399</td>\n",
       "      <td>80.013</td>\n",
       "      <td>4</td>\n",
       "    </tr>\n",
       "    <tr>\n",
       "      <th>4</th>\n",
       "      <td>0.702</td>\n",
       "      <td>0.860</td>\n",
       "      <td>7</td>\n",
       "      <td>-3.969</td>\n",
       "      <td>1</td>\n",
       "      <td>0.0345</td>\n",
       "      <td>0.36100</td>\n",
       "      <td>0.000001</td>\n",
       "      <td>0.1330</td>\n",
       "      <td>0.829</td>\n",
       "      <td>120.042</td>\n",
       "      <td>4</td>\n",
       "    </tr>\n",
       "    <tr>\n",
       "      <th>...</th>\n",
       "      <td>...</td>\n",
       "      <td>...</td>\n",
       "      <td>...</td>\n",
       "      <td>...</td>\n",
       "      <td>...</td>\n",
       "      <td>...</td>\n",
       "      <td>...</td>\n",
       "      <td>...</td>\n",
       "      <td>...</td>\n",
       "      <td>...</td>\n",
       "      <td>...</td>\n",
       "      <td>...</td>\n",
       "    </tr>\n",
       "    <tr>\n",
       "      <th>2473</th>\n",
       "      <td>0.738</td>\n",
       "      <td>0.784</td>\n",
       "      <td>2</td>\n",
       "      <td>-7.172</td>\n",
       "      <td>1</td>\n",
       "      <td>0.3290</td>\n",
       "      <td>0.10500</td>\n",
       "      <td>0.000008</td>\n",
       "      <td>0.5720</td>\n",
       "      <td>0.751</td>\n",
       "      <td>81.961</td>\n",
       "      <td>4</td>\n",
       "    </tr>\n",
       "    <tr>\n",
       "      <th>2474</th>\n",
       "      <td>0.707</td>\n",
       "      <td>0.632</td>\n",
       "      <td>6</td>\n",
       "      <td>-8.734</td>\n",
       "      <td>0</td>\n",
       "      <td>0.3590</td>\n",
       "      <td>0.00159</td>\n",
       "      <td>0.000000</td>\n",
       "      <td>0.0794</td>\n",
       "      <td>0.711</td>\n",
       "      <td>163.954</td>\n",
       "      <td>4</td>\n",
       "    </tr>\n",
       "    <tr>\n",
       "      <th>2475</th>\n",
       "      <td>0.724</td>\n",
       "      <td>0.879</td>\n",
       "      <td>10</td>\n",
       "      <td>-8.217</td>\n",
       "      <td>1</td>\n",
       "      <td>0.0863</td>\n",
       "      <td>0.08000</td>\n",
       "      <td>0.000000</td>\n",
       "      <td>0.4520</td>\n",
       "      <td>0.935</td>\n",
       "      <td>90.056</td>\n",
       "      <td>4</td>\n",
       "    </tr>\n",
       "    <tr>\n",
       "      <th>2476</th>\n",
       "      <td>0.731</td>\n",
       "      <td>0.792</td>\n",
       "      <td>4</td>\n",
       "      <td>-6.560</td>\n",
       "      <td>0</td>\n",
       "      <td>0.1940</td>\n",
       "      <td>0.01210</td>\n",
       "      <td>0.000011</td>\n",
       "      <td>0.3840</td>\n",
       "      <td>0.765</td>\n",
       "      <td>139.954</td>\n",
       "      <td>4</td>\n",
       "    </tr>\n",
       "    <tr>\n",
       "      <th>2477</th>\n",
       "      <td>0.873</td>\n",
       "      <td>0.455</td>\n",
       "      <td>8</td>\n",
       "      <td>-7.849</td>\n",
       "      <td>0</td>\n",
       "      <td>0.3410</td>\n",
       "      <td>0.50400</td>\n",
       "      <td>0.000000</td>\n",
       "      <td>0.1210</td>\n",
       "      <td>0.602</td>\n",
       "      <td>145.076</td>\n",
       "      <td>4</td>\n",
       "    </tr>\n",
       "  </tbody>\n",
       "</table>\n",
       "<p>2478 rows × 12 columns</p>\n",
       "</div>"
      ],
      "text/plain": [
       "      Danceability  Energy  Key  Loudness  Mode  Speechiness  Acousticness  \\\n",
       "0            0.609   0.538    6    -7.842     1       0.0273       0.32800   \n",
       "1            0.265   0.580    9    -4.767     0       0.0491       0.49100   \n",
       "2            0.527   0.521    2    -6.837     0       0.0272       0.63100   \n",
       "3            0.622   0.516    7    -7.514     1       0.0259       0.42900   \n",
       "4            0.702   0.860    7    -3.969     1       0.0345       0.36100   \n",
       "...            ...     ...  ...       ...   ...          ...           ...   \n",
       "2473         0.738   0.784    2    -7.172     1       0.3290       0.10500   \n",
       "2474         0.707   0.632    6    -8.734     0       0.3590       0.00159   \n",
       "2475         0.724   0.879   10    -8.217     1       0.0863       0.08000   \n",
       "2476         0.731   0.792    4    -6.560     0       0.1940       0.01210   \n",
       "2477         0.873   0.455    8    -7.849     0       0.3410       0.50400   \n",
       "\n",
       "      Instrumentalness  Liveness  Valence    Tempo  Time Signature  \n",
       "0             0.000000    0.1250    0.608  130.015               4  \n",
       "1             0.000000    0.2430    0.345  172.121               3  \n",
       "2             0.000000    0.1580    0.266  143.892               3  \n",
       "3             0.000652    0.4660    0.399   80.013               4  \n",
       "4             0.000001    0.1330    0.829  120.042               4  \n",
       "...                ...       ...      ...      ...             ...  \n",
       "2473          0.000008    0.5720    0.751   81.961               4  \n",
       "2474          0.000000    0.0794    0.711  163.954               4  \n",
       "2475          0.000000    0.4520    0.935   90.056               4  \n",
       "2476          0.000011    0.3840    0.765  139.954               4  \n",
       "2477          0.000000    0.1210    0.602  145.076               4  \n",
       "\n",
       "[2478 rows x 12 columns]"
      ]
     },
     "execution_count": 21,
     "metadata": {},
     "output_type": "execute_result"
    }
   ],
   "source": [
    "X"
   ]
  },
  {
   "cell_type": "code",
   "execution_count": 22,
   "id": "5e839093",
   "metadata": {},
   "outputs": [
    {
     "data": {
      "text/plain": [
       "0       77.0\n",
       "1       56.0\n",
       "2       69.0\n",
       "3       30.0\n",
       "4       71.0\n",
       "        ... \n",
       "2473    22.0\n",
       "2474    34.0\n",
       "2475    44.0\n",
       "2476    35.0\n",
       "2477    68.0\n",
       "Name: Popularity, Length: 2478, dtype: float64"
      ]
     },
     "execution_count": 22,
     "metadata": {},
     "output_type": "execute_result"
    }
   ],
   "source": [
    "Y"
   ]
  },
  {
   "cell_type": "code",
   "execution_count": 23,
   "id": "a3c11595",
   "metadata": {},
   "outputs": [],
   "source": [
    "# from sklearn.preprocessing import StandardScaler\n",
    "# scaler = StandardScaler()\n",
    "# X = scaler.fit_transform(X)"
   ]
  },
  {
   "cell_type": "code",
   "execution_count": 24,
   "id": "88f5ac73",
   "metadata": {},
   "outputs": [
    {
     "name": "stderr",
     "output_type": "stream",
     "text": [
      "C:\\Users\\noelm\\anaconda3\\lib\\site-packages\\seaborn\\distributions.py:2619: FutureWarning: `distplot` is a deprecated function and will be removed in a future version. Please adapt your code to use either `displot` (a figure-level function with similar flexibility) or `histplot` (an axes-level function for histograms).\n",
      "  warnings.warn(msg, FutureWarning)\n"
     ]
    },
    {
     "data": {
      "image/png": "[encoded data removed]",
      "text/plain": [
       "<Figure size 600x300 with 1 Axes>"
      ]
     },
     "metadata": {},
     "output_type": "display_data"
    }
   ],
   "source": [
    "# Normal Distribution is observed for popularity showing data near the mean are more frequent in occurrence\n",
    "plt.figure(figsize=[6,3])\n",
    "sns.distplot(df1['Popularity'], color='b',hist_kws=dict(edgecolor=\"black\",linewidth=2),bins=30)\n",
    "plt.show()"
   ]
  },
  {
   "cell_type": "markdown",
   "id": "f60fb6ab",
   "metadata": {},
   "source": [
    "## Feature Selection"
   ]
  },
  {
   "cell_type": "code",
   "execution_count": 25,
   "id": "60ae2844",
   "metadata": {},
   "outputs": [
    {
     "data": {
      "image/png": "[encoded data removed]",
      "text/plain": [
       "<Figure size 800x600 with 2 Axes>"
      ]
     },
     "metadata": {},
     "output_type": "display_data"
    }
   ],
   "source": [
    "# Using Correlation matrix\n",
    "corr_matrix = X.corr() \n",
    "indices = corr_matrix.index\n",
    "plt.figure(figsize=[8,6])\n",
    "sns.heatmap(X[indices].corr(), annot=True, cmap=\"RdYlGn\")\n",
    "plt.show()"
   ]
  },
  {
   "cell_type": "code",
   "execution_count": 26,
   "id": "cc612961",
   "metadata": {},
   "outputs": [
    {
     "name": "stderr",
     "output_type": "stream",
     "text": [
      "C:\\Users\\noelm\\AppData\\Local\\Temp\\ipykernel_23808\\3772953632.py:3: DeprecationWarning: `np.bool` is a deprecated alias for the builtin `bool`. To silence this warning, use `bool` by itself. Doing this will not modify any behavior and is safe. If you specifically wanted the numpy scalar type, use `np.bool_` here.\n",
      "Deprecated in NumPy 1.20; for more details and guidance: https://numpy.org/devdocs/release/1.20.0-notes.html#deprecations\n",
      "  upper= corr_matrix.where(np.triu(np.ones(corr_matrix.shape),k=1).astype(np.bool)) # Consider only the upper triangle values\n"
     ]
    },
    {
     "data": {
      "text/plain": [
       "['Loudness']"
      ]
     },
     "execution_count": 26,
     "metadata": {},
     "output_type": "execute_result"
    }
   ],
   "source": [
    "# Getting the columns with highly correlated features\n",
    "corr_matrix=X.corr().abs() # Convert everything to positive values\n",
    "upper= corr_matrix.where(np.triu(np.ones(corr_matrix.shape),k=1).astype(np.bool)) # Consider only the upper triangle values\n",
    "to_drop=[column for column in upper.columns if any(upper[column]>0.6)]\n",
    "to_drop"
   ]
  },
  {
   "cell_type": "code",
   "execution_count": 27,
   "id": "a75ec4fc",
   "metadata": {},
   "outputs": [
    {
     "data": {
      "text/plain": [
       "(2478, 11)"
      ]
     },
     "execution_count": 27,
     "metadata": {},
     "output_type": "execute_result"
    }
   ],
   "source": [
    "X=X[['Danceability', 'Energy','Key', 'Mode', 'Speechiness','Acousticness', 'Instrumentalness', 'Liveness', 'Valence', 'Tempo', 'Time Signature']]\n",
    "X.shape"
   ]
  },
  {
   "cell_type": "code",
   "execution_count": 28,
   "id": "9f2b79d1",
   "metadata": {},
   "outputs": [],
   "source": [
    "from sklearn.preprocessing import StandardScaler\n",
    "scaler = StandardScaler()\n",
    "X = scaler.fit_transform(X)"
   ]
  },
  {
   "cell_type": "code",
   "execution_count": 29,
   "id": "847cf1fd",
   "metadata": {},
   "outputs": [
    {
     "data": {
      "text/plain": [
       "array([[-0.31500078, -0.66193869,  0.20738069, ...,  0.2067388 ,\n",
       "         0.50641324,  0.16931883],\n",
       "       [-2.6914234 , -0.41675422,  1.04752678, ..., -0.99375954,\n",
       "         1.96342482, -2.96181604],\n",
       "       [-0.88147361, -0.76118002, -0.91281409, ..., -1.35436551,\n",
       "         0.98660489, -2.96181604],\n",
       "       ...,\n",
       "       [ 0.47944283,  1.32872566,  1.32757547, ...,  1.69937362,\n",
       "        -0.8763048 ,  0.16931883],\n",
       "       [ 0.52780027,  0.82084355, -0.3527167 , ...,  0.9233861 ,\n",
       "         0.85033663,  0.16931883],\n",
       "       [ 1.50876542, -1.14646989,  0.76747808, ...,  0.179351  ,\n",
       "         1.02757534,  0.16931883]])"
      ]
     },
     "execution_count": 29,
     "metadata": {},
     "output_type": "execute_result"
    }
   ],
   "source": [
    "X"
   ]
  },
  {
   "cell_type": "markdown",
   "id": "85f7631b",
   "metadata": {},
   "source": [
    "#### Using SelectKBest from scikitlearn to get the best features"
   ]
  },
  {
   "cell_type": "code",
   "execution_count": 261,
   "id": "eecbb66e",
   "metadata": {},
   "outputs": [],
   "source": [
    "from sklearn.feature_selection import SelectKBest\n",
    "from sklearn.feature_selection import f_regression"
   ]
  },
  {
   "cell_type": "code",
   "execution_count": 262,
   "id": "13719d02",
   "metadata": {},
   "outputs": [],
   "source": [
    "k=10\n",
    "X_new=SelectKBest(f_regression,k=k).fit_transform(X,Y)\n",
    "selected_features = X.columns[SelectKBest(f_regression,k=k).fit(X,Y).get_support()]"
   ]
  },
  {
   "cell_type": "code",
   "execution_count": 263,
   "id": "1c914bc2",
   "metadata": {},
   "outputs": [
    {
     "data": {
      "text/plain": [
       "Index(['Danceability', 'Energy', 'Key', 'Mode', 'Speechiness', 'Acousticness',\n",
       "       'Instrumentalness', 'Liveness', 'Valence', 'Tempo'],\n",
       "      dtype='object')"
      ]
     },
     "execution_count": 263,
     "metadata": {},
     "output_type": "execute_result"
    }
   ],
   "source": [
    "X.columns[SelectKBest(f_regression,k=k).fit(X,Y).get_support()]"
   ]
  },
  {
   "cell_type": "code",
   "execution_count": 264,
   "id": "96dd46fe",
   "metadata": {},
   "outputs": [],
   "source": [
    "from sklearn.preprocessing import StandardScaler\n",
    "scaler = StandardScaler()\n",
    "X = scaler.fit_transform(X)"
   ]
  },
  {
   "cell_type": "code",
   "execution_count": null,
   "id": "0ab35011",
   "metadata": {},
   "outputs": [],
   "source": [
    "X"
   ]
  },
  {
   "cell_type": "markdown",
   "id": "6ea2f1d7",
   "metadata": {},
   "source": [
    "## Modelling"
   ]
  },
  {
   "cell_type": "code",
   "execution_count": 30,
   "id": "6a7c8276",
   "metadata": {},
   "outputs": [
    {
     "name": "stdout",
     "output_type": "stream",
     "text": [
      "X_train: (1982, 11)\n",
      "X_test: (496, 11)\n",
      "y_train (1982,)\n",
      "y_test (496,)\n"
     ]
    }
   ],
   "source": [
    "X_train, X_test, y_train, y_test = train_test_split(X,Y,test_size=0.2)\n",
    "print(\"X_train:\",X_train.shape)\n",
    "print(\"X_test:\",X_test.shape)\n",
    "print(\"y_train\",y_train.shape)\n",
    "print(\"y_test\",y_test.shape)"
   ]
  },
  {
   "cell_type": "markdown",
   "id": "b4f8dbac",
   "metadata": {},
   "source": [
    "### 1-Linear Regression"
   ]
  },
  {
   "cell_type": "code",
   "execution_count": 31,
   "id": "029389b7",
   "metadata": {},
   "outputs": [
    {
     "name": "stdout",
     "output_type": "stream",
     "text": [
      "Performance Metrics for Linear Regression:\n",
      "Mean Absolute Error (MAE) = 13.877628650377329\n",
      "Root Mean Squared Error (RMSE) = 17.23234131301512\n",
      "R-squared (R2) = 0.07856822945082553\n"
     ]
    }
   ],
   "source": [
    "lr_model = LinearRegression()\n",
    "lr_model.fit(X_train, y_train)\n",
    "lr_predictions = lr_model.predict(X_test)\n",
    "\n",
    "mae = metrics.mean_absolute_error(y_test, lr_predictions)\n",
    "rmse = np.sqrt(metrics.mean_squared_error(y_test, lr_predictions))\n",
    "r2_lr=r2_score(y_test, lr_predictions)\n",
    "\n",
    "# Mean Absolute Error (MAE) is used to evaluate the accuracy of regression models. \n",
    "# It measures the average absolute difference between the predicted values and the actual target values.\n",
    "print('Performance Metrics for Linear Regression:')\n",
    "print('Mean Absolute Error (MAE) =', mae)\n",
    "print('Root Mean Squared Error (RMSE) =',rmse)\n",
    "print('R-squared (R2) =',r2_lr)"
   ]
  },
  {
   "cell_type": "code",
   "execution_count": 32,
   "id": "c9dab2eb",
   "metadata": {},
   "outputs": [
    {
     "name": "stdout",
     "output_type": "stream",
     "text": [
      "      Predicted Values  Actual Values\n",
      "1112         52.081232           64.0\n",
      "2398         52.445909           28.0\n",
      "2445         48.561141           40.0\n",
      "1240         48.053705           16.0\n",
      "571          55.466320           48.0\n",
      "...                ...            ...\n",
      "1522         45.721257           51.0\n",
      "1131         51.457009           52.0\n",
      "132          50.905857           67.0\n",
      "345          55.257229           61.0\n",
      "2192         44.643314           27.0\n",
      "\n",
      "[496 rows x 2 columns]\n"
     ]
    }
   ],
   "source": [
    "# Create a DataFrame to store the predictions and actual values\n",
    "results_df1 = pd.DataFrame({'Predicted Values': lr_predictions, 'Actual Values': y_test})\n",
    "\n",
    "# Print the DataFrame\n",
    "print(results_df1)"
   ]
  },
  {
   "cell_type": "markdown",
   "id": "0ca51e7d",
   "metadata": {},
   "source": [
    "### 2-Random Forest"
   ]
  },
  {
   "cell_type": "code",
   "execution_count": 33,
   "id": "b8d35251",
   "metadata": {},
   "outputs": [],
   "source": [
    "rfmodel = RandomForestRegressor()"
   ]
  },
  {
   "cell_type": "code",
   "execution_count": 34,
   "id": "60fd1570",
   "metadata": {},
   "outputs": [],
   "source": [
    "n_estimators = [int(x) for x in np.linspace(start=100, stop=1000,num=12)]\n",
    "max_features=['auto','sqrt']\n",
    "max_depth=[int(x) for x in np.linspace(5,30,num=6)]\n",
    "min_samples_split=[2,5,10,15,100]\n",
    "min_samples_leaf=[1,2,5,10]"
   ]
  },
  {
   "cell_type": "code",
   "execution_count": 35,
   "id": "7d516960",
   "metadata": {},
   "outputs": [
    {
     "name": "stdout",
     "output_type": "stream",
     "text": [
      "{'n_estimators': [100, 181, 263, 345, 427, 509, 590, 672, 754, 836, 918, 1000], 'max_features': ['auto', 'sqrt'], 'max_depth': [5, 10, 15, 20, 25, 30], 'min_samples_split': [2, 5, 10, 15, 100], 'min_samples_leaf': [1, 2, 5, 10]}\n"
     ]
    }
   ],
   "source": [
    "hyperparameter_grid={'n_estimators':n_estimators,'max_features':max_features,'max_depth':max_depth,'min_samples_split':min_samples_split,'min_samples_leaf':min_samples_leaf}\n",
    "print(hyperparameter_grid)"
   ]
  },
  {
   "cell_type": "code",
   "execution_count": 36,
   "id": "4b4df9f3",
   "metadata": {},
   "outputs": [
    {
     "data": {
      "text/plain": [
       "RandomizedSearchCV(cv=5, estimator=RandomForestRegressor(), n_iter=5,\n",
       "                   param_distributions={'max_depth': [5, 10, 15, 20, 25, 30],\n",
       "                                        'max_features': ['auto', 'sqrt'],\n",
       "                                        'min_samples_leaf': [1, 2, 5, 10],\n",
       "                                        'min_samples_split': [2, 5, 10, 15,\n",
       "                                                              100],\n",
       "                                        'n_estimators': [100, 181, 263, 345,\n",
       "                                                         427, 509, 590, 672,\n",
       "                                                         754, 836, 918, 1000]},\n",
       "                   random_state=8, scoring='neg_mean_squared_error', verbose=2)"
      ]
     },
     "execution_count": 36,
     "metadata": {},
     "output_type": "execute_result"
    }
   ],
   "source": [
    "model=RandomizedSearchCV(estimator=rfmodel,param_distributions=hyperparameter_grid,scoring='neg_mean_squared_error',n_iter=5,cv=5,verbose=2,random_state=8)\n",
    "model"
   ]
  },
  {
   "cell_type": "code",
   "execution_count": 37,
   "id": "5bfb9914",
   "metadata": {},
   "outputs": [
    {
     "name": "stdout",
     "output_type": "stream",
     "text": [
      "Fitting 5 folds for each of 5 candidates, totalling 25 fits\n",
      "[CV] END max_depth=5, max_features=sqrt, min_samples_leaf=10, min_samples_split=10, n_estimators=672; total time=   3.2s\n",
      "[CV] END max_depth=5, max_features=sqrt, min_samples_leaf=10, min_samples_split=10, n_estimators=672; total time=   3.3s\n",
      "[CV] END max_depth=5, max_features=sqrt, min_samples_leaf=10, min_samples_split=10, n_estimators=672; total time=   3.3s\n",
      "[CV] END max_depth=5, max_features=sqrt, min_samples_leaf=10, min_samples_split=10, n_estimators=672; total time=   3.3s\n",
      "[CV] END max_depth=5, max_features=sqrt, min_samples_leaf=10, min_samples_split=10, n_estimators=672; total time=   3.3s\n",
      "[CV] END max_depth=15, max_features=sqrt, min_samples_leaf=5, min_samples_split=15, n_estimators=754; total time=   5.3s\n",
      "[CV] END max_depth=15, max_features=sqrt, min_samples_leaf=5, min_samples_split=15, n_estimators=754; total time=   5.2s\n",
      "[CV] END max_depth=15, max_features=sqrt, min_samples_leaf=5, min_samples_split=15, n_estimators=754; total time=   5.2s\n",
      "[CV] END max_depth=15, max_features=sqrt, min_samples_leaf=5, min_samples_split=15, n_estimators=754; total time=   5.5s\n",
      "[CV] END max_depth=15, max_features=sqrt, min_samples_leaf=5, min_samples_split=15, n_estimators=754; total time=   5.1s\n",
      "[CV] END max_depth=25, max_features=auto, min_samples_leaf=2, min_samples_split=100, n_estimators=509; total time=   6.4s\n",
      "[CV] END max_depth=25, max_features=auto, min_samples_leaf=2, min_samples_split=100, n_estimators=509; total time=   7.3s\n",
      "[CV] END max_depth=25, max_features=auto, min_samples_leaf=2, min_samples_split=100, n_estimators=509; total time=   5.9s\n",
      "[CV] END max_depth=25, max_features=auto, min_samples_leaf=2, min_samples_split=100, n_estimators=509; total time=   7.6s\n",
      "[CV] END max_depth=25, max_features=auto, min_samples_leaf=2, min_samples_split=100, n_estimators=509; total time=   6.9s\n",
      "[CV] END max_depth=30, max_features=auto, min_samples_leaf=1, min_samples_split=2, n_estimators=836; total time=  21.7s\n",
      "[CV] END max_depth=30, max_features=auto, min_samples_leaf=1, min_samples_split=2, n_estimators=836; total time=  22.3s\n",
      "[CV] END max_depth=30, max_features=auto, min_samples_leaf=1, min_samples_split=2, n_estimators=836; total time=  20.9s\n",
      "[CV] END max_depth=30, max_features=auto, min_samples_leaf=1, min_samples_split=2, n_estimators=836; total time=  21.9s\n",
      "[CV] END max_depth=30, max_features=auto, min_samples_leaf=1, min_samples_split=2, n_estimators=836; total time=  21.0s\n",
      "[CV] END max_depth=25, max_features=sqrt, min_samples_leaf=1, min_samples_split=5, n_estimators=836; total time=   7.7s\n",
      "[CV] END max_depth=25, max_features=sqrt, min_samples_leaf=1, min_samples_split=5, n_estimators=836; total time=   7.8s\n",
      "[CV] END max_depth=25, max_features=sqrt, min_samples_leaf=1, min_samples_split=5, n_estimators=836; total time=   7.6s\n",
      "[CV] END max_depth=25, max_features=sqrt, min_samples_leaf=1, min_samples_split=5, n_estimators=836; total time=   7.9s\n",
      "[CV] END max_depth=25, max_features=sqrt, min_samples_leaf=1, min_samples_split=5, n_estimators=836; total time=   7.7s\n"
     ]
    },
    {
     "data": {
      "text/plain": [
       "RandomizedSearchCV(cv=5, estimator=RandomForestRegressor(), n_iter=5,\n",
       "                   param_distributions={'max_depth': [5, 10, 15, 20, 25, 30],\n",
       "                                        'max_features': ['auto', 'sqrt'],\n",
       "                                        'min_samples_leaf': [1, 2, 5, 10],\n",
       "                                        'min_samples_split': [2, 5, 10, 15,\n",
       "                                                              100],\n",
       "                                        'n_estimators': [100, 181, 263, 345,\n",
       "                                                         427, 509, 590, 672,\n",
       "                                                         754, 836, 918, 1000]},\n",
       "                   random_state=8, scoring='neg_mean_squared_error', verbose=2)"
      ]
     },
     "execution_count": 37,
     "metadata": {},
     "output_type": "execute_result"
    }
   ],
   "source": [
    "model.fit(X_train,y_train)"
   ]
  },
  {
   "cell_type": "code",
   "execution_count": 38,
   "id": "cb183ccb",
   "metadata": {},
   "outputs": [
    {
     "data": {
      "text/plain": [
       "{'n_estimators': 754,\n",
       " 'min_samples_split': 15,\n",
       " 'min_samples_leaf': 5,\n",
       " 'max_features': 'sqrt',\n",
       " 'max_depth': 15}"
      ]
     },
     "execution_count": 38,
     "metadata": {},
     "output_type": "execute_result"
    }
   ],
   "source": [
    "model.best_params_"
   ]
  },
  {
   "cell_type": "code",
   "execution_count": 39,
   "id": "2c9f553b",
   "metadata": {},
   "outputs": [
    {
     "name": "stdout",
     "output_type": "stream",
     "text": [
      "[55.81127659 51.945716   50.58947829 50.15689558 55.06442696 52.7779943\n",
      " 52.66167292 47.72347281 45.68335977 52.27730727 44.91916602 51.22849888\n",
      " 46.3628544  47.07859826 48.92709991 44.72689663 45.66429468 49.7047802\n",
      " 39.12038475 50.33471801 46.73733996 47.90591895 47.40509164 40.91330101\n",
      " 57.76726181 55.24281189 53.79648186 50.36150153 44.49476937 44.39162511\n",
      " 44.73683819 46.0244701  42.73416756 47.26318835 52.19848589 49.93246707\n",
      " 48.28203262 50.24554359 48.89822167 42.18010586 47.20870572 43.69839518\n",
      " 56.58234964 47.72631333 45.0551989  61.22050699 49.90452267 53.43099032\n",
      " 55.867331   50.1499132  48.80739432 52.82621755 45.05518195 51.4665782\n",
      " 53.11326986 44.30401848 54.45119255 46.40110877 59.68693392 47.44817968\n",
      " 43.15724287 48.05853355 45.09127422 55.29610978 56.66335053 45.54047332\n",
      " 54.2176948  46.48246665 45.97179198 54.41983168 53.7464889  42.46381682\n",
      " 53.20000371 49.97919498 54.34029419 44.83525668 55.78587794 49.11472289\n",
      " 47.15930845 40.3829295  45.24011732 50.63567703 56.3655255  51.81625001\n",
      " 48.54659316 44.43162172 44.46147579 50.16579289 47.46654643 61.76037536\n",
      " 45.74081619 48.05538762 42.74319612 55.51880159 46.97114314 50.12134985\n",
      " 48.01622683 46.00931962 41.87964298 52.30066794 45.24812017 42.7291745\n",
      " 51.49788156 50.21210573 56.30223623 45.13089789 44.68816186 42.21263997\n",
      " 41.85554941 48.7790576  45.05944303 59.15056629 48.56806833 46.06563487\n",
      " 52.85429105 47.7051745  53.41753564 43.34480287 53.35205419 53.5810559\n",
      " 53.10208641 55.28138328 42.57411281 48.97023095 55.91948844 47.06409753\n",
      " 42.62524373 42.32727901 52.13705911 46.87176771 45.87041442 60.00411253\n",
      " 49.74207661 46.80523777 44.05110355 55.10264342 50.5309853  55.87833552\n",
      " 44.98430436 48.83953223 56.48111473 51.99212894 51.82236861 58.07989425\n",
      " 59.06260105 55.5611799  41.15786641 45.8099356  46.77172313 57.08821733\n",
      " 49.34824415 46.35960167 53.96384364 44.06750484 49.18421493 55.79895402\n",
      " 58.01681184 49.64281548 49.02683597 54.14494574 49.56704072 44.378108\n",
      " 49.76335111 46.65277485 44.18911028 51.02764684 51.49197814 48.13236152\n",
      " 47.78763683 43.71137189 45.85183047 46.50450841 44.31848539 50.02961234\n",
      " 50.83326556 49.41250491 46.42664861 53.66293612 58.28833079 43.73508196\n",
      " 49.70986616 46.0367801  42.77576189 44.53015161 52.05678938 48.54736754\n",
      " 48.03728176 56.51904927 50.59427824 51.27409647 40.9115229  51.42583077\n",
      " 49.18691216 41.45304221 51.83991836 56.86902934 58.63631112 55.31443748\n",
      " 50.32004116 46.11924434 53.13482457 44.14100561 43.60979638 47.66443816\n",
      " 48.05259662 49.12316128 49.57810168 42.8412692  48.98760075 53.63719878\n",
      " 50.383681   46.47788467 49.59419835 50.83052141 40.55379461 60.9334433\n",
      " 49.87327869 50.24379808 60.98649748 52.50654518 39.96151017 45.74792548\n",
      " 45.60553508 46.62276942 45.79932446 46.15044213 53.51594035 58.57645416\n",
      " 46.30101757 54.78261194 47.21304049 48.00553823 57.93338679 45.57788865\n",
      " 56.23718121 50.39217457 42.16581174 55.78007226 52.90048353 52.20025667\n",
      " 47.21146387 55.23851585 47.59258427 41.46536161 53.62041943 45.14233055\n",
      " 44.1884359  52.41220792 43.73418442 51.99858128 37.18484338 56.7710668\n",
      " 46.65493408 45.34680069 55.78396423 44.62641702 52.93737972 51.02332887\n",
      " 55.22480026 49.6946697  47.96570048 52.67525258 52.17290543 44.52252735\n",
      " 45.03830261 43.02836144 54.69002585 54.21949805 53.13538731 50.4493649\n",
      " 47.28427603 49.87988156 50.42829652 53.67839197 44.65525873 49.09641771\n",
      " 52.10155473 46.03272835 43.80524733 40.90511358 52.50861152 43.89009584\n",
      " 57.06519326 44.34337595 45.67758357 50.95123568 40.16125346 47.03990309\n",
      " 39.12217144 41.15405845 43.44957199 45.79612501 41.00516092 48.44031353\n",
      " 46.42141312 54.37550783 56.25479722 46.33498888 41.95742209 55.87050026\n",
      " 42.11291893 50.34900399 48.6513502  51.58645758 46.60342749 45.32338997\n",
      " 40.68760398 52.02933885 58.96947078 55.04975937 44.06322959 41.63381809\n",
      " 49.18474898 57.82548605 47.63801017 55.65982187 46.25353239 42.78852696\n",
      " 44.65882983 52.74056519 58.26194194 50.97551144 43.52233755 48.64623131\n",
      " 41.59678326 40.40625921 55.24036504 44.4184708  55.17629688 50.49188796\n",
      " 44.23910926 43.6762449  45.39485503 43.88098183 49.82924763 54.74588492\n",
      " 54.73921102 44.34727613 54.62926977 51.812272   48.55536782 42.48334502\n",
      " 59.15315926 44.20333233 44.83110004 56.22163442 49.49713095 44.95964916\n",
      " 45.69529799 41.83740064 53.91728712 57.1954671  55.95133603 53.10510681\n",
      " 44.65111981 52.61622872 57.73780965 48.17361977 44.02462003 47.46118854\n",
      " 46.49452582 47.64483598 46.88980981 49.07278551 47.16691826 51.12534843\n",
      " 51.85647687 54.98284245 48.52023866 48.74392041 42.90135078 52.82528605\n",
      " 49.04193899 50.74332386 37.4954315  43.04853568 48.19617148 42.78110257\n",
      " 45.40364482 41.95846608 51.91327195 51.9584819  46.39490031 45.76088758\n",
      " 54.18555613 46.82793614 55.82816967 47.33856208 46.70197371 54.24773744\n",
      " 45.40637665 43.30127324 45.9020617  47.38517072 50.37773658 55.91208974\n",
      " 57.78550126 48.53511114 39.80365776 55.66975633 58.47576995 44.82078866\n",
      " 47.53856068 51.60448551 56.3177721  47.76202778 53.60036674 42.35539218\n",
      " 47.18415672 49.85313058 44.36361208 51.10997752 43.18172829 46.75176306\n",
      " 57.53630045 51.52427911 55.79610861 45.3038785  46.60621721 52.705223\n",
      " 61.1230396  54.48367446 60.27049961 51.45389878 47.57851499 49.34392407\n",
      " 50.32591257 48.15174891 47.46594289 42.80265984 51.34379068 48.47782686\n",
      " 48.41712417 51.41810424 52.97330783 44.84757156 55.68114064 56.52225707\n",
      " 42.71332302 49.9003238  48.12746191 40.63868492 53.55473853 45.10305227\n",
      " 56.31474118 55.78396423 47.84670842 49.6543847  55.44811542 50.67154741\n",
      " 45.60076982 50.06585325 36.66076226 49.63780487 48.81191334 43.24955457\n",
      " 48.78533494 43.58884424 46.72701095 49.31510162 45.43632193 49.94472718\n",
      " 51.08459255 45.75094989 49.57622385 49.47462271 52.21702812 44.48380489\n",
      " 48.03072354 51.88644541 46.44923746 42.00570907 46.76947935 49.08954558\n",
      " 43.46114344 47.08610429 50.60224576 45.31424423 43.5529413  43.34090811\n",
      " 40.6754108  41.16854859 48.33931664 51.77825735 44.35288703 52.19848589\n",
      " 52.66527877 55.7173745  50.45393186 45.42634154 52.52913841 49.39231498\n",
      " 53.09980803 50.068346   55.57846443 48.91913636]\n"
     ]
    }
   ],
   "source": [
    "rf_predictions = model.predict(X_test)\n",
    "print(rf_predictions)"
   ]
  },
  {
   "cell_type": "code",
   "execution_count": 40,
   "id": "356180b2",
   "metadata": {},
   "outputs": [
    {
     "name": "stdout",
     "output_type": "stream",
     "text": [
      "      Predicted Values  Actual Values\n",
      "1112         55.811277           64.0\n",
      "2398         51.945716           28.0\n",
      "2445         50.589478           40.0\n",
      "1240         50.156896           16.0\n",
      "571          55.064427           48.0\n",
      "...                ...            ...\n",
      "1522         49.392315           51.0\n",
      "1131         53.099808           52.0\n",
      "132          50.068346           67.0\n",
      "345          55.578464           61.0\n",
      "2192         48.919136           27.0\n",
      "\n",
      "[496 rows x 2 columns]\n"
     ]
    }
   ],
   "source": [
    "# Create a DataFrame to store the predictions and actual values\n",
    "results_df = pd.DataFrame({'Predicted Values': rf_predictions, 'Actual Values': y_test})\n",
    "\n",
    "# Print the DataFrame\n",
    "print(results_df)"
   ]
  },
  {
   "cell_type": "code",
   "execution_count": 41,
   "id": "628ecf17",
   "metadata": {},
   "outputs": [
    {
     "data": {
      "text/plain": [
       "<matplotlib.collections.PathCollection at 0x2468d2d6160>"
      ]
     },
     "execution_count": 41,
     "metadata": {},
     "output_type": "execute_result"
    },
    {
     "data": {
      "image/png": "[encoded data removed]",
      "text/plain": [
       "<Figure size 640x480 with 1 Axes>"
      ]
     },
     "metadata": {},
     "output_type": "display_data"
    }
   ],
   "source": [
    "plt.scatter(y_test, rf_predictions)"
   ]
  },
  {
   "cell_type": "code",
   "execution_count": 42,
   "id": "56490dc5",
   "metadata": {},
   "outputs": [
    {
     "name": "stdout",
     "output_type": "stream",
     "text": [
      "Performance Metrics for Random Forest Regressor:\n",
      "Mean Absolute Error (MAE) = 13.641418746830162\n",
      "Root Mean Squared Error (RMSE) = 17.088330402878135\n",
      "r2 square test = 0.09390471256907651\n"
     ]
    }
   ],
   "source": [
    "mae_rf=metrics.mean_absolute_error(y_test, rf_predictions)\n",
    "rmse_rf=np.sqrt(metrics.mean_squared_error(y_test, rf_predictions))\n",
    "r2_rf=r2_score(y_test, rf_predictions)\n",
    "\n",
    "print('Performance Metrics for Random Forest Regressor:')\n",
    "print('Mean Absolute Error (MAE) =',mae_rf)\n",
    "print('Root Mean Squared Error (RMSE) =',rmse_rf)\n",
    "print('r2 square test =',r2_rf)"
   ]
  },
  {
   "cell_type": "markdown",
   "id": "10c64455",
   "metadata": {},
   "source": [
    "### 3-Decision Tree"
   ]
  },
  {
   "cell_type": "code",
   "execution_count": 43,
   "id": "a3e511b0",
   "metadata": {},
   "outputs": [],
   "source": [
    "dt_model = DecisionTreeRegressor(random_state=0)"
   ]
  },
  {
   "cell_type": "code",
   "execution_count": 44,
   "id": "d27f3de4",
   "metadata": {},
   "outputs": [],
   "source": [
    "hyperparameter_grid = {\n",
    "    'max_depth': [None] + [int(x) for x in np.linspace(5, 30, num=6)],\n",
    "    'min_samples_split': [2, 5, 10, 15, 100],\n",
    "    'min_samples_leaf': [1, 2, 5, 10]\n",
    "}"
   ]
  },
  {
   "cell_type": "code",
   "execution_count": 45,
   "id": "61fea072",
   "metadata": {},
   "outputs": [
    {
     "name": "stdout",
     "output_type": "stream",
     "text": [
      "Fitting 5 folds for each of 140 candidates, totalling 700 fits\n",
      "Best parameters found:  {'max_depth': 5, 'min_samples_leaf': 10, 'min_samples_split': 100}\n"
     ]
    },
    {
     "data": {
      "text/plain": [
       "DecisionTreeRegressor(max_depth=5, min_samples_leaf=10, min_samples_split=100,\n",
       "                      random_state=0)"
      ]
     },
     "execution_count": 45,
     "metadata": {},
     "output_type": "execute_result"
    }
   ],
   "source": [
    "# Instantiate the GridSearchCV object\n",
    "grid_search = GridSearchCV(estimator=dt_model, param_grid=hyperparameter_grid, cv=5, n_jobs=-1, verbose=2)\n",
    "\n",
    "# Perform grid search\n",
    "grid_search.fit(X_train, y_train)\n",
    "\n",
    "# Best parameters found\n",
    "print(\"Best parameters found: \", grid_search.best_params_)\n",
    "\n",
    "# Re-train the model with the best parameters\n",
    "best_dt_model = grid_search.best_estimator_\n",
    "best_dt_model.fit(X_train, y_train)\n"
   ]
  },
  {
   "cell_type": "code",
   "execution_count": 46,
   "id": "af136f27",
   "metadata": {},
   "outputs": [],
   "source": [
    "# Make predictions\n",
    "dt_predictions = best_dt_model.predict(X_test)"
   ]
  },
  {
   "cell_type": "code",
   "execution_count": 47,
   "id": "e41ebd41",
   "metadata": {},
   "outputs": [
    {
     "name": "stdout",
     "output_type": "stream",
     "text": [
      "Performance Metrics for Decision Tree Regressor:\n",
      "Mean Absolute Error: 14.094667307202734\n",
      "Root Mean Squared Error: 17.64992056440947\n",
      "R-squared (R2) test: 0.03337033993221494\n"
     ]
    }
   ],
   "source": [
    "# Evaluate the model\n",
    "mae_dt = metrics.mean_absolute_error(y_test, dt_predictions)\n",
    "rmse_dt = np.sqrt(metrics.mean_squared_error(y_test, dt_predictions))\n",
    "r2_dt = r2_score(y_test, dt_predictions)\n",
    "print('Performance Metrics for Decision Tree Regressor:')\n",
    "print('Mean Absolute Error:', mae_dt)\n",
    "print('Root Mean Squared Error:', rmse_dt)\n",
    "print('R-squared (R2) test:', r2_dt)"
   ]
  },
  {
   "cell_type": "markdown",
   "id": "0a4da3b8",
   "metadata": {},
   "source": [
    "### 4-XGBoost"
   ]
  },
  {
   "cell_type": "code",
   "execution_count": 182,
   "id": "10df85cd",
   "metadata": {},
   "outputs": [
    {
     "name": "stdout",
     "output_type": "stream",
     "text": [
      "Collecting xgboost\n",
      "  Downloading xgboost-2.0.3-py3-none-win_amd64.whl (99.8 MB)\n",
      "     ---------------------------------------- 99.8/99.8 MB 2.8 MB/s eta 0:00:00\n",
      "Requirement already satisfied: scipy in c:\\users\\noelm\\anaconda3\\lib\\site-packages (from xgboost) (1.9.1)\n",
      "Requirement already satisfied: numpy in c:\\users\\noelm\\anaconda3\\lib\\site-packages (from xgboost) (1.21.5)\n",
      "Installing collected packages: xgboost\n",
      "Successfully installed xgboost-2.0.3\n",
      "Note: you may need to restart the kernel to use updated packages.\n"
     ]
    }
   ],
   "source": [
    "pip install xgboost"
   ]
  },
  {
   "cell_type": "code",
   "execution_count": 48,
   "id": "44e60a48",
   "metadata": {},
   "outputs": [
    {
     "name": "stdout",
     "output_type": "stream",
     "text": [
      "Fitting 5 folds for each of 243 candidates, totalling 1215 fits\n",
      "Best parameters found:  {'colsample_bytree': 0.6, 'gamma': 0.0, 'learning_rate': 0.05, 'max_depth': 3, 'min_child_weight': 5}\n"
     ]
    }
   ],
   "source": [
    "# Define the parameter grid to search\n",
    "param_grid = {\n",
    "    'learning_rate': [0.05, 0.1, 0.15],\n",
    "    'max_depth': [3, 4, 5],\n",
    "    'min_child_weight': [1, 3, 5],\n",
    "    'gamma': [0.0, 0.1, 0.2],\n",
    "    'colsample_bytree': [0.6, 0.8, 1.0]\n",
    "}\n",
    "\n",
    "# Create the XGBRegressor model\n",
    "xgmodel = xgb.XGBRegressor()\n",
    "\n",
    "# Instantiate the GridSearchCV object\n",
    "grid_search = GridSearchCV(estimator=xgmodel, param_grid=param_grid, cv=5, n_jobs=-1, verbose=2)\n",
    "\n",
    "# Perform the grid search\n",
    "grid_search.fit(X_train, y_train)\n",
    "\n",
    "# Best parameters found\n",
    "print(\"Best parameters found: \", grid_search.best_params_)"
   ]
  },
  {
   "cell_type": "code",
   "execution_count": 49,
   "id": "c0926ba9",
   "metadata": {},
   "outputs": [
    {
     "name": "stdout",
     "output_type": "stream",
     "text": [
      "Mean Absolute Error: 13.733958275087419\n",
      "Root Mean Squared Error (RMSE) = 17.257893062407266\n",
      "r2 square test = 0.0758336446756046\n"
     ]
    }
   ],
   "source": [
    "# Re-train the model with the best parameters\n",
    "best_xgmodel = grid_search.best_estimator_\n",
    "best_xgmodel.fit(X_train, y_train)\n",
    "\n",
    "# Make predictions\n",
    "xg_predictions = best_xgmodel.predict(X_test)\n",
    "\n",
    "# Evaluate the model\n",
    "xgmae = metrics.mean_absolute_error(y_test, xg_predictions)\n",
    "xgrmse = np.sqrt(metrics.mean_squared_error(y_test, xg_predictions))\n",
    "r2_xgb = r2_score(y_test, xg_predictions)\n",
    "\n",
    "print('Mean Absolute Error:', xgmae)\n",
    "print('Root Mean Squared Error (RMSE) =', xgrmse)\n",
    "print('r2 square test =', r2_xgb)"
   ]
  },
  {
   "cell_type": "code",
   "execution_count": 51,
   "id": "ae0f9787",
   "metadata": {},
   "outputs": [
    {
     "name": "stdout",
     "output_type": "stream",
     "text": [
      "+-------------------+-----------------------+---------------------------+------------------+\n",
      "| Model             |   Mean Absolute Error |   Root Mean Squared Error |   R-squared (R2) |\n",
      "+===================+=======================+===========================+==================+\n",
      "| Random Forest     |               13.6414 |                   17.0883 |        0.0939047 |\n",
      "+-------------------+-----------------------+---------------------------+------------------+\n",
      "| XGBoost           |               13.734  |                   17.2579 |        0.0758336 |\n",
      "+-------------------+-----------------------+---------------------------+------------------+\n",
      "| Linear Regression |               13.8776 |                   17.2323 |        0.0785682 |\n",
      "+-------------------+-----------------------+---------------------------+------------------+\n",
      "| Decision Tree     |               14.0947 |                   17.6499 |        0.0333703 |\n",
      "+-------------------+-----------------------+---------------------------+------------------+\n"
     ]
    }
   ],
   "source": [
    " from tabulate import tabulate\n",
    "\n",
    "results = [\n",
    "    ['Random Forest', mae_rf, rmse_rf, r2_rf],\n",
    "    ['XGBoost', xgmae, xgrmse, r2_xgb],\n",
    "    ['Linear Regression', mae, rmse, r2_lr],\n",
    "    ['Decision Tree', mae_dt, rmse_dt, r2_dt],\n",
    "]\n",
    "\n",
    "print(tabulate(results, headers=['Model', 'Mean Absolute Error', 'Root Mean Squared Error', 'R-squared (R2)'], tablefmt='grid'))\n"
   ]
  },
  {
   "cell_type": "code",
   "execution_count": 287,
   "id": "1d3639cb",
   "metadata": {},
   "outputs": [
    {
     "data": {
      "image/png": "[encoded data removed]",
      "text/plain": [
       "<Figure size 1000x600 with 1 Axes>"
      ]
     },
     "metadata": {},
     "output_type": "display_data"
    }
   ],
   "source": [
    "# scatter plots will show how well each model's predictions align with the actual values. \n",
    "# The diagonal dashed line represents perfect predictions, where actual values equal predicted values. \n",
    "# Points closer to this line indicate better model performance.\n",
    "plt.figure(figsize=(10, 6))\n",
    "plt.scatter(y_test, rf_predictions, color='blue', label='Random Forest')\n",
    "plt.scatter(y_test, lr_predictions, color='orange', label='Linear Regression')\n",
    "plt.scatter(y_test, dt_predictions, color='green', label='Decision Tree')\n",
    "plt.scatter(y_test, xg_predictions, color='yellow', label='XGBoost')\n",
    "plt.plot([min(y_test), max(y_test)], [min(y_test), max(y_test)], color='red', linestyle='--')\n",
    "plt.title('Actual vs Predicted Values')\n",
    "plt.xlabel('Actual Values')\n",
    "plt.ylabel('Predicted Values')\n",
    "plt.legend()\n",
    "plt.grid(True)\n",
    "plt.show()"
   ]
  },
  {
   "cell_type": "markdown",
   "id": "c3a9d1bc",
   "metadata": {},
   "source": [
    "# Classification Analysis\n"
   ]
  },
  {
   "cell_type": "code",
   "execution_count": 452,
   "id": "c4524266",
   "metadata": {},
   "outputs": [
    {
     "data": {
      "text/html": [
       "<div>\n",
       "<style scoped>\n",
       "    .dataframe tbody tr th:only-of-type {\n",
       "        vertical-align: middle;\n",
       "    }\n",
       "\n",
       "    .dataframe tbody tr th {\n",
       "        vertical-align: top;\n",
       "    }\n",
       "\n",
       "    .dataframe thead th {\n",
       "        text-align: right;\n",
       "    }\n",
       "</style>\n",
       "<table border=\"1\" class=\"dataframe\">\n",
       "  <thead>\n",
       "    <tr style=\"text-align: right;\">\n",
       "      <th></th>\n",
       "      <th>Danceability</th>\n",
       "      <th>Energy</th>\n",
       "      <th>Key</th>\n",
       "      <th>Loudness</th>\n",
       "      <th>Mode</th>\n",
       "      <th>Speechiness</th>\n",
       "      <th>Acousticness</th>\n",
       "      <th>Instrumentalness</th>\n",
       "      <th>Liveness</th>\n",
       "      <th>Valence</th>\n",
       "      <th>Tempo</th>\n",
       "      <th>Time Signature</th>\n",
       "      <th>Popularity_binary</th>\n",
       "    </tr>\n",
       "  </thead>\n",
       "  <tbody>\n",
       "    <tr>\n",
       "      <th>0</th>\n",
       "      <td>0.609</td>\n",
       "      <td>0.538</td>\n",
       "      <td>6</td>\n",
       "      <td>-7.842</td>\n",
       "      <td>1</td>\n",
       "      <td>0.0273</td>\n",
       "      <td>0.32800</td>\n",
       "      <td>0.000000</td>\n",
       "      <td>0.1250</td>\n",
       "      <td>0.608</td>\n",
       "      <td>130.015</td>\n",
       "      <td>4</td>\n",
       "      <td>1</td>\n",
       "    </tr>\n",
       "    <tr>\n",
       "      <th>1</th>\n",
       "      <td>0.265</td>\n",
       "      <td>0.580</td>\n",
       "      <td>9</td>\n",
       "      <td>-4.767</td>\n",
       "      <td>0</td>\n",
       "      <td>0.0491</td>\n",
       "      <td>0.49100</td>\n",
       "      <td>0.000000</td>\n",
       "      <td>0.2430</td>\n",
       "      <td>0.345</td>\n",
       "      <td>172.121</td>\n",
       "      <td>3</td>\n",
       "      <td>1</td>\n",
       "    </tr>\n",
       "    <tr>\n",
       "      <th>2</th>\n",
       "      <td>0.527</td>\n",
       "      <td>0.521</td>\n",
       "      <td>2</td>\n",
       "      <td>-6.837</td>\n",
       "      <td>0</td>\n",
       "      <td>0.0272</td>\n",
       "      <td>0.63100</td>\n",
       "      <td>0.000000</td>\n",
       "      <td>0.1580</td>\n",
       "      <td>0.266</td>\n",
       "      <td>143.892</td>\n",
       "      <td>3</td>\n",
       "      <td>1</td>\n",
       "    </tr>\n",
       "    <tr>\n",
       "      <th>3</th>\n",
       "      <td>0.622</td>\n",
       "      <td>0.516</td>\n",
       "      <td>7</td>\n",
       "      <td>-7.514</td>\n",
       "      <td>1</td>\n",
       "      <td>0.0259</td>\n",
       "      <td>0.42900</td>\n",
       "      <td>0.000652</td>\n",
       "      <td>0.4660</td>\n",
       "      <td>0.399</td>\n",
       "      <td>80.013</td>\n",
       "      <td>4</td>\n",
       "      <td>0</td>\n",
       "    </tr>\n",
       "    <tr>\n",
       "      <th>4</th>\n",
       "      <td>0.702</td>\n",
       "      <td>0.860</td>\n",
       "      <td>7</td>\n",
       "      <td>-3.969</td>\n",
       "      <td>1</td>\n",
       "      <td>0.0345</td>\n",
       "      <td>0.36100</td>\n",
       "      <td>0.000001</td>\n",
       "      <td>0.1330</td>\n",
       "      <td>0.829</td>\n",
       "      <td>120.042</td>\n",
       "      <td>4</td>\n",
       "      <td>1</td>\n",
       "    </tr>\n",
       "    <tr>\n",
       "      <th>...</th>\n",
       "      <td>...</td>\n",
       "      <td>...</td>\n",
       "      <td>...</td>\n",
       "      <td>...</td>\n",
       "      <td>...</td>\n",
       "      <td>...</td>\n",
       "      <td>...</td>\n",
       "      <td>...</td>\n",
       "      <td>...</td>\n",
       "      <td>...</td>\n",
       "      <td>...</td>\n",
       "      <td>...</td>\n",
       "      <td>...</td>\n",
       "    </tr>\n",
       "    <tr>\n",
       "      <th>2473</th>\n",
       "      <td>0.738</td>\n",
       "      <td>0.784</td>\n",
       "      <td>2</td>\n",
       "      <td>-7.172</td>\n",
       "      <td>1</td>\n",
       "      <td>0.3290</td>\n",
       "      <td>0.10500</td>\n",
       "      <td>0.000008</td>\n",
       "      <td>0.5720</td>\n",
       "      <td>0.751</td>\n",
       "      <td>81.961</td>\n",
       "      <td>4</td>\n",
       "      <td>0</td>\n",
       "    </tr>\n",
       "    <tr>\n",
       "      <th>2474</th>\n",
       "      <td>0.707</td>\n",
       "      <td>0.632</td>\n",
       "      <td>6</td>\n",
       "      <td>-8.734</td>\n",
       "      <td>0</td>\n",
       "      <td>0.3590</td>\n",
       "      <td>0.00159</td>\n",
       "      <td>0.000000</td>\n",
       "      <td>0.0794</td>\n",
       "      <td>0.711</td>\n",
       "      <td>163.954</td>\n",
       "      <td>4</td>\n",
       "      <td>0</td>\n",
       "    </tr>\n",
       "    <tr>\n",
       "      <th>2475</th>\n",
       "      <td>0.724</td>\n",
       "      <td>0.879</td>\n",
       "      <td>10</td>\n",
       "      <td>-8.217</td>\n",
       "      <td>1</td>\n",
       "      <td>0.0863</td>\n",
       "      <td>0.08000</td>\n",
       "      <td>0.000000</td>\n",
       "      <td>0.4520</td>\n",
       "      <td>0.935</td>\n",
       "      <td>90.056</td>\n",
       "      <td>4</td>\n",
       "      <td>1</td>\n",
       "    </tr>\n",
       "    <tr>\n",
       "      <th>2476</th>\n",
       "      <td>0.731</td>\n",
       "      <td>0.792</td>\n",
       "      <td>4</td>\n",
       "      <td>-6.560</td>\n",
       "      <td>0</td>\n",
       "      <td>0.1940</td>\n",
       "      <td>0.01210</td>\n",
       "      <td>0.000011</td>\n",
       "      <td>0.3840</td>\n",
       "      <td>0.765</td>\n",
       "      <td>139.954</td>\n",
       "      <td>4</td>\n",
       "      <td>0</td>\n",
       "    </tr>\n",
       "    <tr>\n",
       "      <th>2477</th>\n",
       "      <td>0.873</td>\n",
       "      <td>0.455</td>\n",
       "      <td>8</td>\n",
       "      <td>-7.849</td>\n",
       "      <td>0</td>\n",
       "      <td>0.3410</td>\n",
       "      <td>0.50400</td>\n",
       "      <td>0.000000</td>\n",
       "      <td>0.1210</td>\n",
       "      <td>0.602</td>\n",
       "      <td>145.076</td>\n",
       "      <td>4</td>\n",
       "      <td>1</td>\n",
       "    </tr>\n",
       "  </tbody>\n",
       "</table>\n",
       "<p>2478 rows × 13 columns</p>\n",
       "</div>"
      ],
      "text/plain": [
       "      Danceability  Energy  Key  Loudness  Mode  Speechiness  Acousticness  \\\n",
       "0            0.609   0.538    6    -7.842     1       0.0273       0.32800   \n",
       "1            0.265   0.580    9    -4.767     0       0.0491       0.49100   \n",
       "2            0.527   0.521    2    -6.837     0       0.0272       0.63100   \n",
       "3            0.622   0.516    7    -7.514     1       0.0259       0.42900   \n",
       "4            0.702   0.860    7    -3.969     1       0.0345       0.36100   \n",
       "...            ...     ...  ...       ...   ...          ...           ...   \n",
       "2473         0.738   0.784    2    -7.172     1       0.3290       0.10500   \n",
       "2474         0.707   0.632    6    -8.734     0       0.3590       0.00159   \n",
       "2475         0.724   0.879   10    -8.217     1       0.0863       0.08000   \n",
       "2476         0.731   0.792    4    -6.560     0       0.1940       0.01210   \n",
       "2477         0.873   0.455    8    -7.849     0       0.3410       0.50400   \n",
       "\n",
       "      Instrumentalness  Liveness  Valence    Tempo  Time Signature  \\\n",
       "0             0.000000    0.1250    0.608  130.015               4   \n",
       "1             0.000000    0.2430    0.345  172.121               3   \n",
       "2             0.000000    0.1580    0.266  143.892               3   \n",
       "3             0.000652    0.4660    0.399   80.013               4   \n",
       "4             0.000001    0.1330    0.829  120.042               4   \n",
       "...                ...       ...      ...      ...             ...   \n",
       "2473          0.000008    0.5720    0.751   81.961               4   \n",
       "2474          0.000000    0.0794    0.711  163.954               4   \n",
       "2475          0.000000    0.4520    0.935   90.056               4   \n",
       "2476          0.000011    0.3840    0.765  139.954               4   \n",
       "2477          0.000000    0.1210    0.602  145.076               4   \n",
       "\n",
       "      Popularity_binary  \n",
       "0                     1  \n",
       "1                     1  \n",
       "2                     1  \n",
       "3                     0  \n",
       "4                     1  \n",
       "...                 ...  \n",
       "2473                  0  \n",
       "2474                  0  \n",
       "2475                  1  \n",
       "2476                  0  \n",
       "2477                  1  \n",
       "\n",
       "[2478 rows x 13 columns]"
      ]
     },
     "execution_count": 452,
     "metadata": {},
     "output_type": "execute_result"
    }
   ],
   "source": [
    "df2 = df1.copy()\n",
    "\n",
    "# Create a new column 'Popularity_binary' based on the condition\n",
    "df2['Popularity_binary'] = df2['Popularity'].apply(lambda x: 1 if x > 35 else 0)\n",
    "\n",
    "# Drop the original 'Popularity' column if you want\n",
    "df2.drop('Popularity', axis=1, inplace=True)\n",
    "\n",
    "# Display the new DataFrame\n",
    "df2"
   ]
  },
  {
   "cell_type": "code",
   "execution_count": 453,
   "id": "5b099703",
   "metadata": {},
   "outputs": [
    {
     "name": "stdout",
     "output_type": "stream",
     "text": [
      "Number of popular songs (1): 1965\n",
      "Number of unpopular songs (0): 513\n"
     ]
    }
   ],
   "source": [
    "# Count the number of popular (1) and unpopular (0) songs\n",
    "popularity_counts = df2['Popularity_binary'].value_counts()\n",
    "\n",
    "# Display the counts\n",
    "print(\"Number of popular songs (1):\", popularity_counts[1])\n",
    "print(\"Number of unpopular songs (0):\", popularity_counts[0])"
   ]
  },
  {
   "cell_type": "code",
   "execution_count": 454,
   "id": "ec1de949",
   "metadata": {},
   "outputs": [
    {
     "data": {
      "text/plain": [
       "Index(['Danceability', 'Energy', 'Key', 'Loudness', 'Mode', 'Speechiness',\n",
       "       'Acousticness', 'Instrumentalness', 'Liveness', 'Valence', 'Tempo',\n",
       "       'Time Signature', 'Popularity_binary'],\n",
       "      dtype='object')"
      ]
     },
     "execution_count": 454,
     "metadata": {},
     "output_type": "execute_result"
    }
   ],
   "source": [
    "df2.columns"
   ]
  },
  {
   "cell_type": "code",
   "execution_count": 455,
   "id": "daec8356",
   "metadata": {},
   "outputs": [
    {
     "name": "stdout",
     "output_type": "stream",
     "text": [
      "(2478, 12) (2478,)\n"
     ]
    }
   ],
   "source": [
    "X1 = df2.iloc[:, np.r_[0:12]]\n",
    "Y1 = df2.iloc[:, 12]\n",
    "print(X1.shape, Y1.shape)"
   ]
  },
  {
   "cell_type": "code",
   "execution_count": 456,
   "id": "fa1013cb",
   "metadata": {},
   "outputs": [
    {
     "data": {
      "text/html": [
       "<div>\n",
       "<style scoped>\n",
       "    .dataframe tbody tr th:only-of-type {\n",
       "        vertical-align: middle;\n",
       "    }\n",
       "\n",
       "    .dataframe tbody tr th {\n",
       "        vertical-align: top;\n",
       "    }\n",
       "\n",
       "    .dataframe thead th {\n",
       "        text-align: right;\n",
       "    }\n",
       "</style>\n",
       "<table border=\"1\" class=\"dataframe\">\n",
       "  <thead>\n",
       "    <tr style=\"text-align: right;\">\n",
       "      <th></th>\n",
       "      <th>Danceability</th>\n",
       "      <th>Energy</th>\n",
       "      <th>Key</th>\n",
       "      <th>Loudness</th>\n",
       "      <th>Mode</th>\n",
       "      <th>Speechiness</th>\n",
       "      <th>Acousticness</th>\n",
       "      <th>Instrumentalness</th>\n",
       "      <th>Liveness</th>\n",
       "      <th>Valence</th>\n",
       "      <th>Tempo</th>\n",
       "      <th>Time Signature</th>\n",
       "    </tr>\n",
       "  </thead>\n",
       "  <tbody>\n",
       "    <tr>\n",
       "      <th>0</th>\n",
       "      <td>0.609</td>\n",
       "      <td>0.538</td>\n",
       "      <td>6</td>\n",
       "      <td>-7.842</td>\n",
       "      <td>1</td>\n",
       "      <td>0.0273</td>\n",
       "      <td>0.32800</td>\n",
       "      <td>0.000000</td>\n",
       "      <td>0.1250</td>\n",
       "      <td>0.608</td>\n",
       "      <td>130.015</td>\n",
       "      <td>4</td>\n",
       "    </tr>\n",
       "    <tr>\n",
       "      <th>1</th>\n",
       "      <td>0.265</td>\n",
       "      <td>0.580</td>\n",
       "      <td>9</td>\n",
       "      <td>-4.767</td>\n",
       "      <td>0</td>\n",
       "      <td>0.0491</td>\n",
       "      <td>0.49100</td>\n",
       "      <td>0.000000</td>\n",
       "      <td>0.2430</td>\n",
       "      <td>0.345</td>\n",
       "      <td>172.121</td>\n",
       "      <td>3</td>\n",
       "    </tr>\n",
       "    <tr>\n",
       "      <th>2</th>\n",
       "      <td>0.527</td>\n",
       "      <td>0.521</td>\n",
       "      <td>2</td>\n",
       "      <td>-6.837</td>\n",
       "      <td>0</td>\n",
       "      <td>0.0272</td>\n",
       "      <td>0.63100</td>\n",
       "      <td>0.000000</td>\n",
       "      <td>0.1580</td>\n",
       "      <td>0.266</td>\n",
       "      <td>143.892</td>\n",
       "      <td>3</td>\n",
       "    </tr>\n",
       "    <tr>\n",
       "      <th>3</th>\n",
       "      <td>0.622</td>\n",
       "      <td>0.516</td>\n",
       "      <td>7</td>\n",
       "      <td>-7.514</td>\n",
       "      <td>1</td>\n",
       "      <td>0.0259</td>\n",
       "      <td>0.42900</td>\n",
       "      <td>0.000652</td>\n",
       "      <td>0.4660</td>\n",
       "      <td>0.399</td>\n",
       "      <td>80.013</td>\n",
       "      <td>4</td>\n",
       "    </tr>\n",
       "    <tr>\n",
       "      <th>4</th>\n",
       "      <td>0.702</td>\n",
       "      <td>0.860</td>\n",
       "      <td>7</td>\n",
       "      <td>-3.969</td>\n",
       "      <td>1</td>\n",
       "      <td>0.0345</td>\n",
       "      <td>0.36100</td>\n",
       "      <td>0.000001</td>\n",
       "      <td>0.1330</td>\n",
       "      <td>0.829</td>\n",
       "      <td>120.042</td>\n",
       "      <td>4</td>\n",
       "    </tr>\n",
       "    <tr>\n",
       "      <th>...</th>\n",
       "      <td>...</td>\n",
       "      <td>...</td>\n",
       "      <td>...</td>\n",
       "      <td>...</td>\n",
       "      <td>...</td>\n",
       "      <td>...</td>\n",
       "      <td>...</td>\n",
       "      <td>...</td>\n",
       "      <td>...</td>\n",
       "      <td>...</td>\n",
       "      <td>...</td>\n",
       "      <td>...</td>\n",
       "    </tr>\n",
       "    <tr>\n",
       "      <th>2473</th>\n",
       "      <td>0.738</td>\n",
       "      <td>0.784</td>\n",
       "      <td>2</td>\n",
       "      <td>-7.172</td>\n",
       "      <td>1</td>\n",
       "      <td>0.3290</td>\n",
       "      <td>0.10500</td>\n",
       "      <td>0.000008</td>\n",
       "      <td>0.5720</td>\n",
       "      <td>0.751</td>\n",
       "      <td>81.961</td>\n",
       "      <td>4</td>\n",
       "    </tr>\n",
       "    <tr>\n",
       "      <th>2474</th>\n",
       "      <td>0.707</td>\n",
       "      <td>0.632</td>\n",
       "      <td>6</td>\n",
       "      <td>-8.734</td>\n",
       "      <td>0</td>\n",
       "      <td>0.3590</td>\n",
       "      <td>0.00159</td>\n",
       "      <td>0.000000</td>\n",
       "      <td>0.0794</td>\n",
       "      <td>0.711</td>\n",
       "      <td>163.954</td>\n",
       "      <td>4</td>\n",
       "    </tr>\n",
       "    <tr>\n",
       "      <th>2475</th>\n",
       "      <td>0.724</td>\n",
       "      <td>0.879</td>\n",
       "      <td>10</td>\n",
       "      <td>-8.217</td>\n",
       "      <td>1</td>\n",
       "      <td>0.0863</td>\n",
       "      <td>0.08000</td>\n",
       "      <td>0.000000</td>\n",
       "      <td>0.4520</td>\n",
       "      <td>0.935</td>\n",
       "      <td>90.056</td>\n",
       "      <td>4</td>\n",
       "    </tr>\n",
       "    <tr>\n",
       "      <th>2476</th>\n",
       "      <td>0.731</td>\n",
       "      <td>0.792</td>\n",
       "      <td>4</td>\n",
       "      <td>-6.560</td>\n",
       "      <td>0</td>\n",
       "      <td>0.1940</td>\n",
       "      <td>0.01210</td>\n",
       "      <td>0.000011</td>\n",
       "      <td>0.3840</td>\n",
       "      <td>0.765</td>\n",
       "      <td>139.954</td>\n",
       "      <td>4</td>\n",
       "    </tr>\n",
       "    <tr>\n",
       "      <th>2477</th>\n",
       "      <td>0.873</td>\n",
       "      <td>0.455</td>\n",
       "      <td>8</td>\n",
       "      <td>-7.849</td>\n",
       "      <td>0</td>\n",
       "      <td>0.3410</td>\n",
       "      <td>0.50400</td>\n",
       "      <td>0.000000</td>\n",
       "      <td>0.1210</td>\n",
       "      <td>0.602</td>\n",
       "      <td>145.076</td>\n",
       "      <td>4</td>\n",
       "    </tr>\n",
       "  </tbody>\n",
       "</table>\n",
       "<p>2478 rows × 12 columns</p>\n",
       "</div>"
      ],
      "text/plain": [
       "      Danceability  Energy  Key  Loudness  Mode  Speechiness  Acousticness  \\\n",
       "0            0.609   0.538    6    -7.842     1       0.0273       0.32800   \n",
       "1            0.265   0.580    9    -4.767     0       0.0491       0.49100   \n",
       "2            0.527   0.521    2    -6.837     0       0.0272       0.63100   \n",
       "3            0.622   0.516    7    -7.514     1       0.0259       0.42900   \n",
       "4            0.702   0.860    7    -3.969     1       0.0345       0.36100   \n",
       "...            ...     ...  ...       ...   ...          ...           ...   \n",
       "2473         0.738   0.784    2    -7.172     1       0.3290       0.10500   \n",
       "2474         0.707   0.632    6    -8.734     0       0.3590       0.00159   \n",
       "2475         0.724   0.879   10    -8.217     1       0.0863       0.08000   \n",
       "2476         0.731   0.792    4    -6.560     0       0.1940       0.01210   \n",
       "2477         0.873   0.455    8    -7.849     0       0.3410       0.50400   \n",
       "\n",
       "      Instrumentalness  Liveness  Valence    Tempo  Time Signature  \n",
       "0             0.000000    0.1250    0.608  130.015               4  \n",
       "1             0.000000    0.2430    0.345  172.121               3  \n",
       "2             0.000000    0.1580    0.266  143.892               3  \n",
       "3             0.000652    0.4660    0.399   80.013               4  \n",
       "4             0.000001    0.1330    0.829  120.042               4  \n",
       "...                ...       ...      ...      ...             ...  \n",
       "2473          0.000008    0.5720    0.751   81.961               4  \n",
       "2474          0.000000    0.0794    0.711  163.954               4  \n",
       "2475          0.000000    0.4520    0.935   90.056               4  \n",
       "2476          0.000011    0.3840    0.765  139.954               4  \n",
       "2477          0.000000    0.1210    0.602  145.076               4  \n",
       "\n",
       "[2478 rows x 12 columns]"
      ]
     },
     "execution_count": 456,
     "metadata": {},
     "output_type": "execute_result"
    }
   ],
   "source": [
    "X1"
   ]
  },
  {
   "cell_type": "code",
   "execution_count": 457,
   "id": "731f838a",
   "metadata": {},
   "outputs": [
    {
     "data": {
      "text/plain": [
       "0       1\n",
       "1       1\n",
       "2       1\n",
       "3       0\n",
       "4       1\n",
       "       ..\n",
       "2473    0\n",
       "2474    0\n",
       "2475    1\n",
       "2476    0\n",
       "2477    1\n",
       "Name: Popularity_binary, Length: 2478, dtype: int64"
      ]
     },
     "execution_count": 457,
     "metadata": {},
     "output_type": "execute_result"
    }
   ],
   "source": [
    "Y1"
   ]
  },
  {
   "cell_type": "code",
   "execution_count": 458,
   "id": "da15005e",
   "metadata": {},
   "outputs": [
    {
     "name": "stdout",
     "output_type": "stream",
     "text": [
      "X1_train: (1982, 12)\n",
      "X1_test: (496, 12)\n",
      "y1_train (1982,)\n",
      "y1_test (496,)\n"
     ]
    }
   ],
   "source": [
    "from sklearn.model_selection import train_test_split\n",
    "X1_train, X1_test, y1_train, y1_test = train_test_split(X1,Y1,test_size=0.2)\n",
    "print(\"X1_train:\",X1_train.shape)\n",
    "print(\"X1_test:\",X1_test.shape)\n",
    "print(\"y1_train\",y1_train.shape)\n",
    "print(\"y1_test\",y1_test.shape)"
   ]
  },
  {
   "cell_type": "markdown",
   "id": "20d82671",
   "metadata": {},
   "source": [
    "### Decision Tree Classifier"
   ]
  },
  {
   "cell_type": "code",
   "execution_count": 459,
   "id": "d055182f",
   "metadata": {},
   "outputs": [],
   "source": [
    "from sklearn.tree import DecisionTreeClassifier\n",
    "from sklearn.model_selection import train_test_split, GridSearchCV\n",
    "from sklearn.tree import export_graphviz\n",
    "from sklearn import tree\n",
    "from sklearn.metrics import accuracy_score\n",
    "from sklearn.metrics import confusion_matrix, classification_report"
   ]
  },
  {
   "cell_type": "code",
   "execution_count": 460,
   "id": "b21c2569",
   "metadata": {},
   "outputs": [
    {
     "name": "stdout",
     "output_type": "stream",
     "text": [
      "Train accuracy of decision tree: 0.9984863773965691\n",
      "Test accuracy of decision tree: 0.6411290322580645\n"
     ]
    }
   ],
   "source": [
    "dt= DecisionTreeClassifier()\n",
    "dt.fit(X1_train,y1_train)\n",
    "y_pred=dt.predict(X1_test)\n",
    "DecisionTree_score=dt.score(X1_test,y1_test)\n",
    "print(\"Train accuracy of decision tree:\",dt.score(X1_train,y1_train))\n",
    "print(\"Test accuracy of decision tree:\",dt.score(X1_test,y1_test))"
   ]
  },
  {
   "cell_type": "code",
   "execution_count": 461,
   "id": "d886afc9",
   "metadata": {},
   "outputs": [],
   "source": [
    "max_depth = [8,10,12]\n",
    "min_samples_split = [8,10,12]\n",
    "min_samples_leaf=[1,2,3,4]\n",
    "parameters = dict(max_depth=max_depth, min_samples_split=min_samples_split, min_samples_leaf=min_samples_leaf)"
   ]
  },
  {
   "cell_type": "code",
   "execution_count": 462,
   "id": "a8b18208",
   "metadata": {},
   "outputs": [
    {
     "data": {
      "text/plain": [
       "GridSearchCV(estimator=DecisionTreeClassifier(),\n",
       "             param_grid={'max_depth': [8, 10, 12],\n",
       "                         'min_samples_leaf': [1, 2, 3, 4],\n",
       "                         'min_samples_split': [8, 10, 12]})"
      ]
     },
     "execution_count": 462,
     "metadata": {},
     "output_type": "execute_result"
    }
   ],
   "source": [
    "tree_clf = DecisionTreeClassifier()\n",
    "tree_clf_gs = GridSearchCV(tree_clf, parameters)\n",
    "tree_clf_gs.fit(X1_train,y1_train)"
   ]
  },
  {
   "cell_type": "code",
   "execution_count": 463,
   "id": "9905315c",
   "metadata": {},
   "outputs": [
    {
     "name": "stdout",
     "output_type": "stream",
     "text": [
      "Best max_depth: 8\n",
      "Best min_samples_split: 12\n",
      "Best min_samples_leaf: 1\n"
     ]
    }
   ],
   "source": [
    "print('Best max_depth:', tree_clf_gs.best_estimator_.get_params()['max_depth'])\n",
    "print('Best min_samples_split:', tree_clf_gs.best_estimator_.get_params()['min_samples_split'])\n",
    "print('Best min_samples_leaf:', tree_clf_gs.best_estimator_.get_params()['min_samples_leaf'])"
   ]
  },
  {
   "cell_type": "code",
   "execution_count": 464,
   "id": "fc6cfe46",
   "metadata": {},
   "outputs": [
    {
     "data": {
      "text/plain": [
       "DecisionTreeClassifier(max_depth=10, max_features='auto', min_samples_split=12)"
      ]
     },
     "execution_count": 464,
     "metadata": {},
     "output_type": "execute_result"
    }
   ],
   "source": [
    "from sklearn.tree import plot_tree\n",
    "tree_clf = DecisionTreeClassifier(max_depth=10, max_features='auto', criterion='gini', min_samples_leaf=1, min_samples_split=12)\n",
    "tree_clf.fit(X1_train,y1_train)"
   ]
  },
  {
   "cell_type": "code",
   "execution_count": 465,
   "id": "528a4697",
   "metadata": {},
   "outputs": [
    {
     "data": {
      "text/plain": [
       "'decision_tree_visualization.pdf'"
      ]
     },
     "execution_count": 465,
     "metadata": {},
     "output_type": "execute_result"
    }
   ],
   "source": [
    "from sklearn.tree import export_graphviz\n",
    "import graphviz\n",
    "\n",
    "# Generate DOT data\n",
    "dot_data = export_graphviz(tree_clf, filled=True, feature_names=X1_train.columns)\n",
    "\n",
    "# Convert DOT data to a graph\n",
    "graph = graphviz.Source(dot_data)\n",
    "\n",
    "# Save the graph as a pdf file\n",
    "graph.render(\"decision_tree_visualization\", format='pdf')\n",
    "\n"
   ]
  },
  {
   "cell_type": "code",
   "execution_count": 466,
   "id": "6d4d271e",
   "metadata": {},
   "outputs": [
    {
     "name": "stdout",
     "output_type": "stream",
     "text": [
      "10\n"
     ]
    }
   ],
   "source": [
    "print(tree_clf.tree_.max_depth)"
   ]
  },
  {
   "cell_type": "code",
   "execution_count": 467,
   "id": "a13d8944",
   "metadata": {},
   "outputs": [
    {
     "name": "stdout",
     "output_type": "stream",
     "text": [
      "Tuned Decision Tree Testing Accuracy= 0.7258064516129032\n"
     ]
    }
   ],
   "source": [
    "y_pred = tree_clf.predict(X1_test)\n",
    "print(\"Tuned Decision Tree Testing Accuracy=\",accuracy_score(y1_test, y_pred))"
   ]
  },
  {
   "cell_type": "code",
   "execution_count": 472,
   "id": "c004edf2",
   "metadata": {},
   "outputs": [
    {
     "data": {
      "image/png": "[encoded data removed]",
      "text/plain": [
       "<Figure size 600x400 with 1 Axes>"
      ]
     },
     "metadata": {},
     "output_type": "display_data"
    }
   ],
   "source": [
    "import matplotlib.pyplot as plt\n",
    "\n",
    "# Define labels and scores\n",
    "labels = ['Normal Decision Tree', 'Tuned Decision Tree']\n",
    "scores = [DecisionTree_score, accuracy_score(y1_test, y_pred)]\n",
    "\n",
    "# Plot the bar plot\n",
    "plt.figure(figsize=(6, 4))\n",
    "plt.bar(labels, scores, color=['blue', 'green'])\n",
    "plt.xlabel('Classifier')\n",
    "plt.ylabel('Accuracy')\n",
    "plt.title('Comparison of Decision Tree Classifiers')\n",
    "plt.ylim(0.0, 1.0)\n",
    "plt.show()\n"
   ]
  },
  {
   "cell_type": "code",
   "execution_count": 479,
   "id": "d4f2e1ad",
   "metadata": {},
   "outputs": [
    {
     "name": "stdout",
     "output_type": "stream",
     "text": [
      "[[ 11 106]\n",
      " [ 30 349]]\n",
      "Classification report\n",
      "\n",
      "              precision    recall  f1-score   support\n",
      "\n",
      "           0       0.27      0.09      0.14       117\n",
      "           1       0.77      0.92      0.84       379\n",
      "\n",
      "    accuracy                           0.73       496\n",
      "   macro avg       0.52      0.51      0.49       496\n",
      "weighted avg       0.65      0.73      0.67       496\n",
      "\n"
     ]
    }
   ],
   "source": [
    "print(confusion_matrix(y1_test, y_pred))\n",
    "print(\"Classification report\\n\")\n",
    "print(classification_report(y1_test, y_pred))"
   ]
  },
  {
   "cell_type": "markdown",
   "id": "3ed78e35",
   "metadata": {},
   "source": [
    "### Naive Bayes Classifier"
   ]
  },
  {
   "cell_type": "code",
   "execution_count": 434,
   "id": "1e572dfd",
   "metadata": {},
   "outputs": [
    {
     "name": "stdout",
     "output_type": "stream",
     "text": [
      "Train accuracy of naive bayes: 0.784561049445005\n",
      "Test accuracy of naive bayes: 0.7762096774193549\n"
     ]
    }
   ],
   "source": [
    "from sklearn.naive_bayes import GaussianNB\n",
    "nb= GaussianNB()\n",
    "nb.fit(X1_train,y1_train)\n",
    "print(\"Train accuracy of naive bayes:\",nb.score(X1_train,y1_train))\n",
    "print(\"Test accuracy of naive bayes:\",nb.score(X1_test,y1_test))\n",
    "NaiveBayes_score=nb.score(X1_test,y1_test)"
   ]
  },
  {
   "cell_type": "code",
   "execution_count": 484,
   "id": "22e5b67f",
   "metadata": {},
   "outputs": [
    {
     "name": "stdout",
     "output_type": "stream",
     "text": [
      "              precision    recall  f1-score   support\n",
      "\n",
      "           0       0.42      0.09      0.14       117\n",
      "           1       0.77      0.96      0.86       379\n",
      "\n",
      "    accuracy                           0.76       496\n",
      "   macro avg       0.59      0.52      0.50       496\n",
      "weighted avg       0.69      0.76      0.69       496\n",
      "\n"
     ]
    }
   ],
   "source": [
    "nb_y_pred = nb.predict(X1_test)\n",
    "report = classification_report(y1_test, nb_y_pred)\n",
    "print(report)"
   ]
  },
  {
   "cell_type": "markdown",
   "id": "ef44f042",
   "metadata": {},
   "source": [
    "### Logistic regression"
   ]
  },
  {
   "cell_type": "code",
   "execution_count": 443,
   "id": "1df9379b",
   "metadata": {},
   "outputs": [
    {
     "name": "stdout",
     "output_type": "stream",
     "text": [
      "Train accuracy of Logistic Regression: 0.7926337033299697\n",
      "Test accuracy of Logistic Regression: 0.7883064516129032\n"
     ]
    }
   ],
   "source": [
    "from sklearn.linear_model import LogisticRegression\n",
    "log_reg = LogisticRegression(max_iter=1000)\n",
    "log_reg.fit(X1_train, y1_train)\n",
    "train_accuracy_log_reg = log_reg.score(X1_train, y1_train)\n",
    "test_accuracy_log_reg = log_reg.score(X1_test, y1_test)\n",
    "print(\"Train accuracy of Logistic Regression:\", train_accuracy_log_reg)\n",
    "print(\"Test accuracy of Logistic Regression:\", test_accuracy_log_reg)\n",
    "LogisticRegression_score=log_reg.score(X1_test,y1_test)"
   ]
  },
  {
   "cell_type": "code",
   "execution_count": 485,
   "id": "6b425b3b",
   "metadata": {},
   "outputs": [
    {
     "name": "stdout",
     "output_type": "stream",
     "text": [
      "              precision    recall  f1-score   support\n",
      "\n",
      "           0       0.00      0.00      0.00       117\n",
      "           1       0.76      0.99      0.86       379\n",
      "\n",
      "    accuracy                           0.76       496\n",
      "   macro avg       0.38      0.50      0.43       496\n",
      "weighted avg       0.58      0.76      0.66       496\n",
      "\n"
     ]
    }
   ],
   "source": [
    "lr_y_pred = log_reg.predict(X1_test)\n",
    "report = classification_report(y1_test, lr_y_pred)\n",
    "print(report)"
   ]
  },
  {
   "cell_type": "markdown",
   "id": "9257c2c8",
   "metadata": {},
   "source": [
    "### KNN"
   ]
  },
  {
   "cell_type": "code",
   "execution_count": 448,
   "id": "87a653e2",
   "metadata": {},
   "outputs": [
    {
     "name": "stdout",
     "output_type": "stream",
     "text": [
      "Train accuracy of KNN: 0.806760847628658\n",
      "Test accuracy of KNN: 0.7681451612903226\n"
     ]
    },
    {
     "name": "stderr",
     "output_type": "stream",
     "text": [
      "C:\\Users\\noelm\\anaconda3\\lib\\site-packages\\sklearn\\neighbors\\_classification.py:228: FutureWarning: Unlike other reduction functions (e.g. `skew`, `kurtosis`), the default behavior of `mode` typically preserves the axis it acts along. In SciPy 1.11.0, this behavior will change: the default value of `keepdims` will become False, the `axis` over which the statistic is taken will be eliminated, and the value None will no longer be accepted. Set `keepdims` to True or False to avoid this warning.\n",
      "  mode, _ = stats.mode(_y[neigh_ind, k], axis=1)\n",
      "C:\\Users\\noelm\\anaconda3\\lib\\site-packages\\sklearn\\neighbors\\_classification.py:228: FutureWarning: Unlike other reduction functions (e.g. `skew`, `kurtosis`), the default behavior of `mode` typically preserves the axis it acts along. In SciPy 1.11.0, this behavior will change: the default value of `keepdims` will become False, the `axis` over which the statistic is taken will be eliminated, and the value None will no longer be accepted. Set `keepdims` to True or False to avoid this warning.\n",
      "  mode, _ = stats.mode(_y[neigh_ind, k], axis=1)\n",
      "C:\\Users\\noelm\\anaconda3\\lib\\site-packages\\sklearn\\neighbors\\_classification.py:228: FutureWarning: Unlike other reduction functions (e.g. `skew`, `kurtosis`), the default behavior of `mode` typically preserves the axis it acts along. In SciPy 1.11.0, this behavior will change: the default value of `keepdims` will become False, the `axis` over which the statistic is taken will be eliminated, and the value None will no longer be accepted. Set `keepdims` to True or False to avoid this warning.\n",
      "  mode, _ = stats.mode(_y[neigh_ind, k], axis=1)\n"
     ]
    }
   ],
   "source": [
    "from sklearn.neighbors import KNeighborsClassifier\n",
    "knn = KNeighborsClassifier(n_neighbors=5)\n",
    "knn.fit(X1_train, y1_train)\n",
    "train_accuracy_knn = knn.score(X1_train, y1_train)\n",
    "test_accuracy_knn = knn.score(X1_test, y1_test)\n",
    "print(\"Train accuracy of KNN:\", train_accuracy_knn)\n",
    "print(\"Test accuracy of KNN:\", test_accuracy_knn)\n",
    "KNN_score=knn.score(X1_test,y1_test)"
   ]
  },
  {
   "cell_type": "code",
   "execution_count": 486,
   "id": "eda6b1bb",
   "metadata": {},
   "outputs": [
    {
     "name": "stdout",
     "output_type": "stream",
     "text": [
      "              precision    recall  f1-score   support\n",
      "\n",
      "           0       0.58      0.13      0.21       117\n",
      "           1       0.78      0.97      0.87       379\n",
      "\n",
      "    accuracy                           0.77       496\n",
      "   macro avg       0.68      0.55      0.54       496\n",
      "weighted avg       0.73      0.77      0.71       496\n",
      "\n"
     ]
    },
    {
     "name": "stderr",
     "output_type": "stream",
     "text": [
      "C:\\Users\\noelm\\anaconda3\\lib\\site-packages\\sklearn\\neighbors\\_classification.py:228: FutureWarning: Unlike other reduction functions (e.g. `skew`, `kurtosis`), the default behavior of `mode` typically preserves the axis it acts along. In SciPy 1.11.0, this behavior will change: the default value of `keepdims` will become False, the `axis` over which the statistic is taken will be eliminated, and the value None will no longer be accepted. Set `keepdims` to True or False to avoid this warning.\n",
      "  mode, _ = stats.mode(_y[neigh_ind, k], axis=1)\n"
     ]
    }
   ],
   "source": [
    "knn_y_pred = knn.predict(X1_test)\n",
    "report = classification_report(y1_test, knn_y_pred)\n",
    "print(report)"
   ]
  },
  {
   "cell_type": "markdown",
   "id": "733f8fde",
   "metadata": {},
   "source": [
    "### Random Forest Classifier"
   ]
  },
  {
   "cell_type": "code",
   "execution_count": 435,
   "id": "88ef5f47",
   "metadata": {},
   "outputs": [
    {
     "name": "stdout",
     "output_type": "stream",
     "text": [
      "Train accuracy of random forest 0.9984863773965691\n",
      "Test accuracy of random forest 0.7903225806451613\n"
     ]
    }
   ],
   "source": [
    "from sklearn.ensemble import RandomForestClassifier\n",
    "rf=RandomForestClassifier(n_estimators=150,random_state = 3)\n",
    "rf.fit(X1_train,y1_train)\n",
    "print(\"Train accuracy of random forest\",rf.score(X1_train,y1_train))\n",
    "print(\"Test accuracy of random forest\",rf.score(X1_test,y1_test))\n",
    "RandomForestClassifier_score=rf.score(X1_test,y1_test)\n",
    "rf_y_pred=rf.predict(X1_test)\n",
    "t_true=y_test"
   ]
  },
  {
   "cell_type": "code",
   "execution_count": 470,
   "id": "885b8a88",
   "metadata": {},
   "outputs": [
    {
     "data": {
      "image/png": "[encoded data removed]",
      "text/plain": [
       "<Figure size 800x600 with 1 Axes>"
      ]
     },
     "metadata": {},
     "output_type": "display_data"
    }
   ],
   "source": [
    "from sklearn.metrics import roc_curve, roc_auc_score\n",
    "import matplotlib.pyplot as plt\n",
    "\n",
    "# Get the predicted probabilities for the positive class\n",
    "rf_probs = rf.predict_proba(X1_test)[:, 1]\n",
    "\n",
    "# Calculate the ROC curve\n",
    "fpr, tpr, thresholds = roc_curve(y1_test, rf_probs)\n",
    "\n",
    "# Calculate the AUC score\n",
    "auc = roc_auc_score(y1_test, rf_probs)\n",
    "\n",
    "# Plot ROC curve\n",
    "plt.figure(figsize=(8, 6))\n",
    "plt.plot(fpr, tpr, color='blue', lw=2, label='ROC curve (AUC = %0.2f)' % auc)\n",
    "plt.plot([0, 1], [0, 1], color='gray', linestyle='--')\n",
    "plt.xlim([0.0, 1.0])\n",
    "plt.ylim([0.0, 1.05])\n",
    "plt.xlabel('False Positive Rate')\n",
    "plt.ylabel('True Positive Rate')\n",
    "plt.title('Receiver Operating Characteristic (ROC) Curve')\n",
    "plt.legend(loc=\"lower right\")\n",
    "plt.show()\n"
   ]
  },
  {
   "cell_type": "code",
   "execution_count": 473,
   "id": "072d5f9a",
   "metadata": {},
   "outputs": [
    {
     "name": "stdout",
     "output_type": "stream",
     "text": [
      "[[  1 116]\n",
      " [  6 373]]\n",
      "Classification report\n",
      "\n",
      "              precision    recall  f1-score   support\n",
      "\n",
      "           0       0.14      0.01      0.02       117\n",
      "           1       0.76      0.98      0.86       379\n",
      "\n",
      "    accuracy                           0.75       496\n",
      "   macro avg       0.45      0.50      0.44       496\n",
      "weighted avg       0.62      0.75      0.66       496\n",
      "\n"
     ]
    }
   ],
   "source": [
    "print(confusion_matrix(y1_test, rf_y_pred))\n",
    "print(\"Classification report\\n\")\n",
    "print(classification_report(y1_test, rf_y_pred))"
   ]
  },
  {
   "cell_type": "markdown",
   "id": "615c2a04",
   "metadata": {},
   "source": [
    "### Ensemble Model"
   ]
  },
  {
   "cell_type": "code",
   "execution_count": 450,
   "id": "424a339b",
   "metadata": {},
   "outputs": [
    {
     "name": "stdout",
     "output_type": "stream",
     "text": [
      "The train accuracy for Random Forest and Logistic Regression is: 0.9772956609485368\n",
      "The test accuracy for Random Forest and Logistic Regression is: 0.7923387096774194\n"
     ]
    }
   ],
   "source": [
    "#Voting Classifier\n",
    "from sklearn.ensemble import VotingClassifier\n",
    "ensemble=VotingClassifier(estimators=[('Random Forest', rf), ('Logistic Regression', log_reg)], \n",
    "                          voting='soft', weights=[2,1]).fit(X1_train,y1_train)\n",
    "print('The train accuracy for Random Forest and Logistic Regression is:',ensemble.score(X1_train,y1_train))\n",
    "print('The test accuracy for Random Forest and Logistic Regression is:',ensemble.score(X1_test,y1_test))\n",
    "ensemble_score=ensemble.score(X1_test,y1_test)"
   ]
  },
  {
   "cell_type": "code",
   "execution_count": 451,
   "id": "abae8686",
   "metadata": {},
   "outputs": [
    {
     "data": {
      "text/html": [
       "<div>\n",
       "<style scoped>\n",
       "    .dataframe tbody tr th:only-of-type {\n",
       "        vertical-align: middle;\n",
       "    }\n",
       "\n",
       "    .dataframe tbody tr th {\n",
       "        vertical-align: top;\n",
       "    }\n",
       "\n",
       "    .dataframe thead th {\n",
       "        text-align: right;\n",
       "    }\n",
       "</style>\n",
       "<table border=\"1\" class=\"dataframe\">\n",
       "  <thead>\n",
       "    <tr style=\"text-align: right;\">\n",
       "      <th></th>\n",
       "      <th>Model</th>\n",
       "      <th>Accuracy</th>\n",
       "    </tr>\n",
       "  </thead>\n",
       "  <tbody>\n",
       "    <tr>\n",
       "      <th>5</th>\n",
       "      <td>Ensemble Model</td>\n",
       "      <td>0.792339</td>\n",
       "    </tr>\n",
       "    <tr>\n",
       "      <th>0</th>\n",
       "      <td>Random Forest Classifier</td>\n",
       "      <td>0.790323</td>\n",
       "    </tr>\n",
       "    <tr>\n",
       "      <th>3</th>\n",
       "      <td>Logistic Regression</td>\n",
       "      <td>0.788306</td>\n",
       "    </tr>\n",
       "    <tr>\n",
       "      <th>2</th>\n",
       "      <td>Naive Bayes</td>\n",
       "      <td>0.776210</td>\n",
       "    </tr>\n",
       "    <tr>\n",
       "      <th>4</th>\n",
       "      <td>KNN</td>\n",
       "      <td>0.768145</td>\n",
       "    </tr>\n",
       "    <tr>\n",
       "      <th>1</th>\n",
       "      <td>Desicion Tree Classifier</td>\n",
       "      <td>0.687500</td>\n",
       "    </tr>\n",
       "  </tbody>\n",
       "</table>\n",
       "</div>"
      ],
      "text/plain": [
       "                      Model  Accuracy\n",
       "5            Ensemble Model  0.792339\n",
       "0  Random Forest Classifier  0.790323\n",
       "3       Logistic Regression  0.788306\n",
       "2               Naive Bayes  0.776210\n",
       "4                       KNN  0.768145\n",
       "1  Desicion Tree Classifier  0.687500"
      ]
     },
     "execution_count": 451,
     "metadata": {},
     "output_type": "execute_result"
    }
   ],
   "source": [
    "model_performances=pd.DataFrame({'Model':['Random Forest Classifier','Desicion Tree Classifier','Naive Bayes', 'Logistic Regression', 'KNN','Ensemble Model'],\n",
    "                                  'Accuracy':[RandomForestClassifier_score, DecisionTree_score, NaiveBayes_score, LogisticRegression_score, KNN_score, ensemble_score]})\n",
    "model_performances.sort_values(by=\"Accuracy\",ascending=False)"
   ]
  },
  {
   "cell_type": "markdown",
   "id": "bdd06aff",
   "metadata": {},
   "source": [
    "### Conclusion"
   ]
  },
  {
   "cell_type": "markdown",
   "id": "ea6357b5",
   "metadata": {},
   "source": [
    "We tried to predict popular songs using audio features by regressional analysis. Then we converted the target variable to a binary column, 1 representing all popular songs and 0 representing all unpopular songs. Although accusticness is the most important of these features did not lead us to a strong result. We had around 4000 songs available in our initial dataset. Decision Tree algorithms mainly give better results when we don’t have so much data but we got the best result with Random Forest. There were no strong linear correlations in our data, so linear methods like linear regression did not fit well. "
   ]
  }
 ],
 "metadata": {
  "kernelspec": {
   "display_name": "Python 3 (ipykernel)",
   "language": "python",
   "name": "python3"
  },
  "language_info": {
   "codemirror_mode": {
    "name": "ipython",
    "version": 3
   },
   "file_extension": ".py",
   "mimetype": "text/x-python",
   "name": "python",
   "nbconvert_exporter": "python",
   "pygments_lexer": "ipython3",
   "version": "3.9.13"
  }
 },
 "nbformat": 4,
 "nbformat_minor": 5
}
